{
 "cells": [
  {
   "cell_type": "code",
   "execution_count": 2,
   "id": "555de4db-3c9c-4f4b-96f1-34806137a740",
   "metadata": {},
   "outputs": [
    {
     "name": "stdout",
     "output_type": "stream",
     "text": [
      "<class 'bool'>\n",
      "<class 'int'>\n"
     ]
    }
   ],
   "source": [
    "is_tested=True\n",
    "print(type(is_tested)) #type 변수가 어떤 데이터 타입인지 알려주는 함수\n",
    "\n",
    "a=3\n",
    "print(type(a))"
   ]
  },
  {
   "cell_type": "code",
   "execution_count": 7,
   "id": "84c4e047-41a2-4b8e-a2f5-aebe86b2f01d",
   "metadata": {},
   "outputs": [
    {
     "name": "stdout",
     "output_type": "stream",
     "text": [
      "True\n",
      "True\n",
      "False\n"
     ]
    }
   ],
   "source": [
    "print(\"Yes\"=='Yes')\n",
    "\n",
    "print((2>1) == (5<10))\n",
    "\n",
    "c='2'\n",
    "d=2\n",
    "print(c==d)"
   ]
  },
  {
   "cell_type": "code",
   "execution_count": 8,
   "id": "0d2b5b6f-c6a3-45a9-b152-23e137adcea5",
   "metadata": {},
   "outputs": [
    {
     "name": "stdout",
     "output_type": "stream",
     "text": [
      "말티푸 맞아요\n",
      "is_yes\n"
     ]
    }
   ],
   "source": [
    "\"\"\"\n",
    "Conditional statements\n",
    "\"\"\"\n",
    "\n",
    "puppy=\"maltepoo\"\n",
    "is_yes=False\n",
    "\n",
    "if puppy == \"maltese\":\n",
    "    is_yes=True\n",
    "    print(\"말티즈 맞아요\")\n",
    "\n",
    "elif puppy==\"poodle\":\n",
    "    is_yes=True\n",
    "    print(\"푸들 맞아요\")\n",
    "    \n",
    "else:\n",
    "    is_yes=True\n",
    "    print(\"말티푸 맞아요\")\n",
    "\n",
    "print(\"is_yes\")"
   ]
  },
  {
   "cell_type": "code",
   "execution_count": 17,
   "id": "a881bf84-f313-4fce-b9d2-6a28768336dc",
   "metadata": {},
   "outputs": [
    {
     "name": "stdout",
     "output_type": "stream",
     "text": [
      "[Error]\n",
      "continue....\n"
     ]
    }
   ],
   "source": [
    "\"\"\"\n",
    "Exception Handling\n",
    "\"\"\"\n",
    "\n",
    "x=1\n",
    "\n",
    "\n",
    "try:\n",
    "    print(y)\n",
    "    print(x)\n",
    "except:\n",
    "    print('[Error]')\n",
    "    \n",
    "print(\"continue....\")\n"
   ]
  },
  {
   "cell_type": "code",
   "execution_count": null,
   "id": "1fd9bbb4-c0c5-4046-83df-9081b1a041c3",
   "metadata": {},
   "outputs": [],
   "source": []
  }
 ],
 "metadata": {
  "kernelspec": {
   "display_name": "Python 3",
   "language": "python",
   "name": "python3"
  },
  "language_info": {
   "codemirror_mode": {
    "name": "ipython",
    "version": 3
   },
   "file_extension": ".py",
   "mimetype": "text/x-python",
   "name": "python",
   "nbconvert_exporter": "python",
   "pygments_lexer": "ipython3",
   "version": "3.8.8"
  }
 },
 "nbformat": 4,
 "nbformat_minor": 5
}
