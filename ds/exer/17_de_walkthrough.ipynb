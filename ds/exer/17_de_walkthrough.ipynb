{
 "cells": [
  {
   "cell_type": "code",
   "execution_count": 1,
   "metadata": {},
   "outputs": [
    {
     "data": {
      "text/plain": [
       "(11746, 60)"
      ]
     },
     "execution_count": 1,
     "metadata": {},
     "output_type": "execute_result"
    }
   ],
   "source": [
    "import pandas as pd\n",
    "import numpy as np\n",
    "\n",
    "\"\"\"\n",
    "Data Loading\n",
    "\"\"\"\n",
    "\n",
    "# Read in data into a dataframe \n",
    "df = pd.read_csv('data/ny_energy_2016.csv')\n",
    "\n",
    "df.shape"
   ]
  },
  {
   "cell_type": "code",
   "execution_count": 2,
   "metadata": {},
   "outputs": [
    {
     "name": "stdout",
     "output_type": "stream",
     "text": [
      "<class 'pandas.core.frame.DataFrame'>\n",
      "RangeIndex: 11746 entries, 0 to 11745\n",
      "Data columns (total 60 columns):\n",
      " #   Column                                                      Non-Null Count  Dtype  \n",
      "---  ------                                                      --------------  -----  \n",
      " 0   Order                                                       11746 non-null  int64  \n",
      " 1   Property Id                                                 11746 non-null  int64  \n",
      " 2   Property Name                                               11746 non-null  object \n",
      " 3   Parent Property Id                                          11746 non-null  object \n",
      " 4   Parent Property Name                                        11746 non-null  object \n",
      " 5   BBL - 10 digits                                             11735 non-null  object \n",
      " 6   NYC Borough, Block and Lot (BBL) self-reported              11746 non-null  object \n",
      " 7   NYC Building Identification Number (BIN)                    11746 non-null  object \n",
      " 8   Address 1 (self-reported)                                   11746 non-null  object \n",
      " 9   Address 2                                                   11746 non-null  object \n",
      " 10  Postal Code                                                 11746 non-null  object \n",
      " 11  Street Number                                               11622 non-null  object \n",
      " 12  Street Name                                                 11624 non-null  object \n",
      " 13  Borough                                                     11628 non-null  object \n",
      " 14  DOF Gross Floor Area                                        11628 non-null  float64\n",
      " 15  Primary Property Type - Self Selected                       11746 non-null  object \n",
      " 16  List of All Property Use Types at Property                  11746 non-null  object \n",
      " 17  Largest Property Use Type                                   11746 non-null  object \n",
      " 18  Largest Property Use Type - Gross Floor Area (ft²)          11746 non-null  object \n",
      " 19  2nd Largest Property Use Type                               11746 non-null  object \n",
      " 20  2nd Largest Property Use - Gross Floor Area (ft²)           11746 non-null  object \n",
      " 21  3rd Largest Property Use Type                               11746 non-null  object \n",
      " 22  3rd Largest Property Use Type - Gross Floor Area (ft²)      11746 non-null  object \n",
      " 23  Year Built                                                  11746 non-null  int64  \n",
      " 24  Number of Buildings - Self-reported                         11746 non-null  int64  \n",
      " 25  Occupancy                                                   11746 non-null  int64  \n",
      " 26  Metered Areas (Energy)                                      11746 non-null  object \n",
      " 27  Metered Areas  (Water)                                      11746 non-null  object \n",
      " 28  ENERGY STAR Score                                           11746 non-null  object \n",
      " 29  Site EUI (kBtu/ft²)                                         11746 non-null  object \n",
      " 30  Weather Normalized Site EUI (kBtu/ft²)                      11746 non-null  object \n",
      " 31  Weather Normalized Site Electricity Intensity (kWh/ft²)     11746 non-null  object \n",
      " 32  Weather Normalized Site Natural Gas Intensity (therms/ft²)  11746 non-null  object \n",
      " 33  Weather Normalized Source EUI (kBtu/ft²)                    11746 non-null  object \n",
      " 34  Fuel Oil #1 Use (kBtu)                                      11746 non-null  object \n",
      " 35  Fuel Oil #2 Use (kBtu)                                      11746 non-null  object \n",
      " 36  Fuel Oil #4 Use (kBtu)                                      11746 non-null  object \n",
      " 37  Fuel Oil #5 & 6 Use (kBtu)                                  11746 non-null  object \n",
      " 38  Diesel #2 Use (kBtu)                                        11746 non-null  object \n",
      " 39  District Steam Use (kBtu)                                   11746 non-null  object \n",
      " 40  Natural Gas Use (kBtu)                                      11746 non-null  object \n",
      " 41  Weather Normalized Site Natural Gas Use (therms)            11746 non-null  object \n",
      " 42  Electricity Use - Grid Purchase (kBtu)                      11746 non-null  object \n",
      " 43  Weather Normalized Site Electricity (kWh)                   11746 non-null  object \n",
      " 44  Total GHG Emissions (Metric Tons CO2e)                      11746 non-null  object \n",
      " 45  Direct GHG Emissions (Metric Tons CO2e)                     11746 non-null  object \n",
      " 46  Indirect GHG Emissions (Metric Tons CO2e)                   11746 non-null  object \n",
      " 47  Property GFA - Self-Reported (ft²)                          11746 non-null  int64  \n",
      " 48  Water Use (All Water Sources) (kgal)                        11746 non-null  object \n",
      " 49  Water Intensity (All Water Sources) (gal/ft²)               11746 non-null  object \n",
      " 50  Source EUI (kBtu/ft²)                                       11746 non-null  object \n",
      " 51  Release Date                                                11746 non-null  object \n",
      " 52  Water Required?                                             11628 non-null  object \n",
      " 53  DOF Benchmarking Submission Status                          11716 non-null  object \n",
      " 54  Latitude                                                    9483 non-null   float64\n",
      " 55  Longitude                                                   9483 non-null   float64\n",
      " 56  Community Board                                             9483 non-null   float64\n",
      " 57  Council District                                            9483 non-null   float64\n",
      " 58  Census Tract                                                9483 non-null   float64\n",
      " 59  NTA                                                         9483 non-null   object \n",
      "dtypes: float64(6), int64(6), object(48)\n",
      "memory usage: 5.4+ MB\n"
     ]
    }
   ],
   "source": [
    "# Print the information of the first instance\n",
    "df.info()"
   ]
  },
  {
   "cell_type": "code",
   "execution_count": 3,
   "metadata": {},
   "outputs": [
    {
     "name": "stderr",
     "output_type": "stream",
     "text": [
      "D:\\dev\\anaconda\\lib\\site-packages\\pandas\\core\\ops\\array_ops.py:253: FutureWarning: elementwise comparison failed; returning scalar instead, but in the future will perform elementwise comparison\n",
      "  res_values = method(rvalues)\n"
     ]
    },
    {
     "data": {
      "text/plain": [
       "Order                                                         False\n",
       "Property Id                                                   False\n",
       "Property Name                                                 False\n",
       "Parent Property Id                                            False\n",
       "Parent Property Name                                          False\n",
       "BBL - 10 digits                                               False\n",
       "NYC Borough, Block and Lot (BBL) self-reported                 True\n",
       "NYC Building Identification Number (BIN)                       True\n",
       "Address 1 (self-reported)                                     False\n",
       "Address 2                                                      True\n",
       "Postal Code                                                   False\n",
       "Street Number                                                 False\n",
       "Street Name                                                   False\n",
       "Borough                                                       False\n",
       "DOF Gross Floor Area                                          False\n",
       "Primary Property Type - Self Selected                         False\n",
       "List of All Property Use Types at Property                    False\n",
       "Largest Property Use Type                                      True\n",
       "Largest Property Use Type - Gross Floor Area (ft²)             True\n",
       "2nd Largest Property Use Type                                  True\n",
       "2nd Largest Property Use - Gross Floor Area (ft²)              True\n",
       "3rd Largest Property Use Type                                  True\n",
       "3rd Largest Property Use Type - Gross Floor Area (ft²)         True\n",
       "Year Built                                                    False\n",
       "Number of Buildings - Self-reported                           False\n",
       "Occupancy                                                     False\n",
       "Metered Areas (Energy)                                         True\n",
       "Metered Areas  (Water)                                         True\n",
       "ENERGY STAR Score                                              True\n",
       "Site EUI (kBtu/ft²)                                            True\n",
       "Weather Normalized Site EUI (kBtu/ft²)                         True\n",
       "Weather Normalized Site Electricity Intensity (kWh/ft²)        True\n",
       "Weather Normalized Site Natural Gas Intensity (therms/ft²)     True\n",
       "Weather Normalized Source EUI (kBtu/ft²)                       True\n",
       "Fuel Oil #1 Use (kBtu)                                         True\n",
       "Fuel Oil #2 Use (kBtu)                                         True\n",
       "Fuel Oil #4 Use (kBtu)                                         True\n",
       "Fuel Oil #5 & 6 Use (kBtu)                                     True\n",
       "Diesel #2 Use (kBtu)                                           True\n",
       "District Steam Use (kBtu)                                      True\n",
       "Natural Gas Use (kBtu)                                         True\n",
       "Weather Normalized Site Natural Gas Use (therms)               True\n",
       "Electricity Use - Grid Purchase (kBtu)                         True\n",
       "Weather Normalized Site Electricity (kWh)                      True\n",
       "Total GHG Emissions (Metric Tons CO2e)                         True\n",
       "Direct GHG Emissions (Metric Tons CO2e)                        True\n",
       "Indirect GHG Emissions (Metric Tons CO2e)                      True\n",
       "Property GFA - Self-Reported (ft²)                            False\n",
       "Water Use (All Water Sources) (kgal)                           True\n",
       "Water Intensity (All Water Sources) (gal/ft²)                  True\n",
       "Source EUI (kBtu/ft²)                                          True\n",
       "Release Date                                                  False\n",
       "Water Required?                                               False\n",
       "DOF Benchmarking Submission Status                            False\n",
       "Latitude                                                      False\n",
       "Longitude                                                     False\n",
       "Community Board                                               False\n",
       "Council District                                              False\n",
       "Census Tract                                                  False\n",
       "NTA                                                           False\n",
       "dtype: bool"
      ]
     },
     "execution_count": 3,
     "metadata": {},
     "output_type": "execute_result"
    }
   ],
   "source": [
    "\"\"\"\n",
    "Data Cleaning and Formatting\n",
    "\"\"\"\n",
    "\n",
    "# Problem: some missing values are encoded as “Not Available”.\n",
    "df[df == \"Not Available\"].any()"
   ]
  },
  {
   "cell_type": "code",
   "execution_count": 4,
   "metadata": {},
   "outputs": [
    {
     "data": {
      "text/plain": [
       "Order                                                         False\n",
       "Property Id                                                   False\n",
       "Property Name                                                 False\n",
       "Parent Property Id                                            False\n",
       "Parent Property Name                                          False\n",
       "BBL - 10 digits                                               False\n",
       "NYC Borough, Block and Lot (BBL) self-reported                False\n",
       "NYC Building Identification Number (BIN)                      False\n",
       "Address 1 (self-reported)                                     False\n",
       "Address 2                                                     False\n",
       "Postal Code                                                   False\n",
       "Street Number                                                 False\n",
       "Street Name                                                   False\n",
       "Borough                                                       False\n",
       "DOF Gross Floor Area                                          False\n",
       "Primary Property Type - Self Selected                         False\n",
       "List of All Property Use Types at Property                    False\n",
       "Largest Property Use Type                                     False\n",
       "Largest Property Use Type - Gross Floor Area (ft²)            False\n",
       "2nd Largest Property Use Type                                 False\n",
       "2nd Largest Property Use - Gross Floor Area (ft²)             False\n",
       "3rd Largest Property Use Type                                 False\n",
       "3rd Largest Property Use Type - Gross Floor Area (ft²)        False\n",
       "Year Built                                                    False\n",
       "Number of Buildings - Self-reported                           False\n",
       "Occupancy                                                     False\n",
       "Metered Areas (Energy)                                        False\n",
       "Metered Areas  (Water)                                        False\n",
       "ENERGY STAR Score                                             False\n",
       "Site EUI (kBtu/ft²)                                           False\n",
       "Weather Normalized Site EUI (kBtu/ft²)                        False\n",
       "Weather Normalized Site Electricity Intensity (kWh/ft²)       False\n",
       "Weather Normalized Site Natural Gas Intensity (therms/ft²)    False\n",
       "Weather Normalized Source EUI (kBtu/ft²)                      False\n",
       "Fuel Oil #1 Use (kBtu)                                        False\n",
       "Fuel Oil #2 Use (kBtu)                                        False\n",
       "Fuel Oil #4 Use (kBtu)                                        False\n",
       "Fuel Oil #5 & 6 Use (kBtu)                                    False\n",
       "Diesel #2 Use (kBtu)                                          False\n",
       "District Steam Use (kBtu)                                     False\n",
       "Natural Gas Use (kBtu)                                        False\n",
       "Weather Normalized Site Natural Gas Use (therms)              False\n",
       "Electricity Use - Grid Purchase (kBtu)                        False\n",
       "Weather Normalized Site Electricity (kWh)                     False\n",
       "Total GHG Emissions (Metric Tons CO2e)                        False\n",
       "Direct GHG Emissions (Metric Tons CO2e)                       False\n",
       "Indirect GHG Emissions (Metric Tons CO2e)                     False\n",
       "Property GFA - Self-Reported (ft²)                            False\n",
       "Water Use (All Water Sources) (kgal)                          False\n",
       "Water Intensity (All Water Sources) (gal/ft²)                 False\n",
       "Source EUI (kBtu/ft²)                                         False\n",
       "Release Date                                                  False\n",
       "Water Required?                                               False\n",
       "DOF Benchmarking Submission Status                            False\n",
       "Latitude                                                      False\n",
       "Longitude                                                     False\n",
       "Community Board                                               False\n",
       "Council District                                              False\n",
       "Census Tract                                                  False\n",
       "NTA                                                           False\n",
       "dtype: bool"
      ]
     },
     "execution_count": 4,
     "metadata": {},
     "output_type": "execute_result"
    }
   ],
   "source": [
    "# Replaces all the “Not Available” entries with np.nan\n",
    "\n",
    "df.replace({'Not Available': np.nan}, inplace=True) \n",
    "df[df == \"Not Available\"].any()"
   ]
  },
  {
   "cell_type": "code",
   "execution_count": 5,
   "metadata": {},
   "outputs": [
    {
     "name": "stdout",
     "output_type": "stream",
     "text": [
      "<class 'pandas.core.frame.DataFrame'>\n",
      "RangeIndex: 11746 entries, 0 to 11745\n",
      "Data columns (total 60 columns):\n",
      " #   Column                                                      Non-Null Count  Dtype  \n",
      "---  ------                                                      --------------  -----  \n",
      " 0   Order                                                       11746 non-null  int64  \n",
      " 1   Property Id                                                 11746 non-null  int64  \n",
      " 2   Property Name                                               11746 non-null  object \n",
      " 3   Parent Property Id                                          11746 non-null  object \n",
      " 4   Parent Property Name                                        11746 non-null  object \n",
      " 5   BBL - 10 digits                                             11735 non-null  object \n",
      " 6   NYC Borough, Block and Lot (BBL) self-reported              11735 non-null  object \n",
      " 7   NYC Building Identification Number (BIN)                    11584 non-null  object \n",
      " 8   Address 1 (self-reported)                                   11746 non-null  object \n",
      " 9   Address 2                                                   207 non-null    object \n",
      " 10  Postal Code                                                 11746 non-null  object \n",
      " 11  Street Number                                               11622 non-null  object \n",
      " 12  Street Name                                                 11624 non-null  object \n",
      " 13  Borough                                                     11628 non-null  object \n",
      " 14  DOF Gross Floor Area                                        11628 non-null  float64\n",
      " 15  Primary Property Type - Self Selected                       11746 non-null  object \n",
      " 16  List of All Property Use Types at Property                  11746 non-null  object \n",
      " 17  Largest Property Use Type                                   11744 non-null  object \n",
      " 18  Largest Property Use Type - Gross Floor Area (ft²)          11744 non-null  float64\n",
      " 19  2nd Largest Property Use Type                               3741 non-null   object \n",
      " 20  2nd Largest Property Use - Gross Floor Area (ft²)           3741 non-null   float64\n",
      " 21  3rd Largest Property Use Type                               1484 non-null   object \n",
      " 22  3rd Largest Property Use Type - Gross Floor Area (ft²)      1484 non-null   float64\n",
      " 23  Year Built                                                  11746 non-null  int64  \n",
      " 24  Number of Buildings - Self-reported                         11746 non-null  int64  \n",
      " 25  Occupancy                                                   11746 non-null  int64  \n",
      " 26  Metered Areas (Energy)                                      11689 non-null  object \n",
      " 27  Metered Areas  (Water)                                      7137 non-null   object \n",
      " 28  ENERGY STAR Score                                           9642 non-null   float64\n",
      " 29  Site EUI (kBtu/ft²)                                         11583 non-null  float64\n",
      " 30  Weather Normalized Site EUI (kBtu/ft²)                      10281 non-null  float64\n",
      " 31  Weather Normalized Site Electricity Intensity (kWh/ft²)     10959 non-null  float64\n",
      " 32  Weather Normalized Site Natural Gas Intensity (therms/ft²)  9783 non-null   float64\n",
      " 33  Weather Normalized Source EUI (kBtu/ft²)                    10281 non-null  float64\n",
      " 34  Fuel Oil #1 Use (kBtu)                                      9 non-null      float64\n",
      " 35  Fuel Oil #2 Use (kBtu)                                      2581 non-null   float64\n",
      " 36  Fuel Oil #4 Use (kBtu)                                      1321 non-null   float64\n",
      " 37  Fuel Oil #5 & 6 Use (kBtu)                                  594 non-null    float64\n",
      " 38  Diesel #2 Use (kBtu)                                        16 non-null     float64\n",
      " 39  District Steam Use (kBtu)                                   936 non-null    float64\n",
      " 40  Natural Gas Use (kBtu)                                      10304 non-null  float64\n",
      " 41  Weather Normalized Site Natural Gas Use (therms)            9784 non-null   float64\n",
      " 42  Electricity Use - Grid Purchase (kBtu)                      11502 non-null  float64\n",
      " 43  Weather Normalized Site Electricity (kWh)                   10960 non-null  float64\n",
      " 44  Total GHG Emissions (Metric Tons CO2e)                      11672 non-null  float64\n",
      " 45  Direct GHG Emissions (Metric Tons CO2e)                     11663 non-null  float64\n",
      " 46  Indirect GHG Emissions (Metric Tons CO2e)                   11681 non-null  float64\n",
      " 47  Property GFA - Self-Reported (ft²)                          11746 non-null  float64\n",
      " 48  Water Use (All Water Sources) (kgal)                        7762 non-null   float64\n",
      " 49  Water Intensity (All Water Sources) (gal/ft²)               7762 non-null   float64\n",
      " 50  Source EUI (kBtu/ft²)                                       11583 non-null  float64\n",
      " 51  Release Date                                                11746 non-null  object \n",
      " 52  Water Required?                                             11628 non-null  object \n",
      " 53  DOF Benchmarking Submission Status                          11716 non-null  object \n",
      " 54  Latitude                                                    9483 non-null   float64\n",
      " 55  Longitude                                                   9483 non-null   float64\n",
      " 56  Community Board                                             9483 non-null   float64\n",
      " 57  Council District                                            9483 non-null   float64\n",
      " 58  Census Tract                                                9483 non-null   float64\n",
      " 59  NTA                                                         9483 non-null   object \n",
      "dtypes: float64(32), int64(5), object(23)\n",
      "memory usage: 5.4+ MB\n"
     ]
    }
   ],
   "source": [
    "# Converts columns that should be numeric to float \n",
    "\n",
    "for col in list(df.columns):\n",
    "    # Select columns that should be numeric\n",
    "    if('ft²' in col or \n",
    "        'kBtu' in col or\n",
    "        'Metric Tons CO2e' in col or\n",
    "        'kWh' in col or\n",
    "        'therms' in col or\n",
    "        'gal' in col or\n",
    "        'Score' in col):\n",
    "            \n",
    "            # Convert the data type to float\n",
    "            df[col] = df[col].astype(float)\n",
    "\n",
    "\n",
    "df.info()"
   ]
  },
  {
   "cell_type": "code",
   "execution_count": 6,
   "metadata": {},
   "outputs": [
    {
     "name": "stdout",
     "output_type": "stream",
     "text": [
      "Fuel Oil #1 Use (kBtu)                                        11737\n",
      "Diesel #2 Use (kBtu)                                          11730\n",
      "Address 2                                                     11539\n",
      "Fuel Oil #5 & 6 Use (kBtu)                                    11152\n",
      "District Steam Use (kBtu)                                     10810\n",
      "Fuel Oil #4 Use (kBtu)                                        10425\n",
      "3rd Largest Property Use Type - Gross Floor Area (ft²)        10262\n",
      "3rd Largest Property Use Type                                 10262\n",
      "Fuel Oil #2 Use (kBtu)                                         9165\n",
      "2nd Largest Property Use Type                                  8005\n",
      "2nd Largest Property Use - Gross Floor Area (ft²)              8005\n",
      "Metered Areas  (Water)                                         4609\n",
      "Water Intensity (All Water Sources) (gal/ft²)                  3984\n",
      "Water Use (All Water Sources) (kgal)                           3984\n",
      "Latitude                                                       2263\n",
      "Census Tract                                                   2263\n",
      "Longitude                                                      2263\n",
      "Community Board                                                2263\n",
      "Council District                                               2263\n",
      "NTA                                                            2263\n",
      "ENERGY STAR Score                                              2104\n",
      "Weather Normalized Site Natural Gas Intensity (therms/ft²)     1963\n",
      "Weather Normalized Site Natural Gas Use (therms)               1962\n",
      "Weather Normalized Site EUI (kBtu/ft²)                         1465\n",
      "Weather Normalized Source EUI (kBtu/ft²)                       1465\n",
      "Natural Gas Use (kBtu)                                         1442\n",
      "Weather Normalized Site Electricity Intensity (kWh/ft²)         787\n",
      "Weather Normalized Site Electricity (kWh)                       786\n",
      "Electricity Use - Grid Purchase (kBtu)                          244\n",
      "Site EUI (kBtu/ft²)                                             163\n",
      "Source EUI (kBtu/ft²)                                           163\n",
      "NYC Building Identification Number (BIN)                        162\n",
      "Street Number                                                   124\n",
      "Street Name                                                     122\n",
      "DOF Gross Floor Area                                            118\n",
      "Borough                                                         118\n",
      "Water Required?                                                 118\n",
      "Direct GHG Emissions (Metric Tons CO2e)                          83\n",
      "Total GHG Emissions (Metric Tons CO2e)                           74\n",
      "Indirect GHG Emissions (Metric Tons CO2e)                        65\n",
      "Metered Areas (Energy)                                           57\n",
      "DOF Benchmarking Submission Status                               30\n",
      "BBL - 10 digits                                                  11\n",
      "NYC Borough, Block and Lot (BBL) self-reported                   11\n",
      "Largest Property Use Type - Gross Floor Area (ft²)                2\n",
      "Largest Property Use Type                                         2\n",
      "Release Date                                                      0\n",
      "Property Id                                                       0\n",
      "Property Name                                                     0\n",
      "Parent Property Id                                                0\n",
      "Parent Property Name                                              0\n",
      "Postal Code                                                       0\n",
      "Address 1 (self-reported)                                         0\n",
      "Property GFA - Self-Reported (ft²)                                0\n",
      "Occupancy                                                         0\n",
      "Number of Buildings - Self-reported                               0\n",
      "Year Built                                                        0\n",
      "Primary Property Type - Self Selected                             0\n",
      "List of All Property Use Types at Property                        0\n",
      "Order                                                             0\n",
      "dtype: int64\n",
      "Fuel Oil #1 Use (kBtu)                                        0.999234\n",
      "Diesel #2 Use (kBtu)                                          0.998638\n",
      "Address 2                                                     0.982377\n",
      "Fuel Oil #5 & 6 Use (kBtu)                                    0.949430\n",
      "District Steam Use (kBtu)                                     0.920313\n",
      "Fuel Oil #4 Use (kBtu)                                        0.887536\n",
      "3rd Largest Property Use Type - Gross Floor Area (ft²)        0.873659\n",
      "3rd Largest Property Use Type                                 0.873659\n",
      "Fuel Oil #2 Use (kBtu)                                        0.780266\n",
      "2nd Largest Property Use Type                                 0.681509\n",
      "2nd Largest Property Use - Gross Floor Area (ft²)             0.681509\n",
      "Metered Areas  (Water)                                        0.392389\n",
      "Water Intensity (All Water Sources) (gal/ft²)                 0.339179\n",
      "Water Use (All Water Sources) (kgal)                          0.339179\n",
      "Latitude                                                      0.192661\n",
      "Census Tract                                                  0.192661\n",
      "Longitude                                                     0.192661\n",
      "Community Board                                               0.192661\n",
      "Council District                                              0.192661\n",
      "NTA                                                           0.192661\n",
      "ENERGY STAR Score                                             0.179125\n",
      "Weather Normalized Site Natural Gas Intensity (therms/ft²)    0.167121\n",
      "Weather Normalized Site Natural Gas Use (therms)              0.167036\n",
      "Weather Normalized Site EUI (kBtu/ft²)                        0.124723\n",
      "Weather Normalized Source EUI (kBtu/ft²)                      0.124723\n",
      "Natural Gas Use (kBtu)                                        0.122765\n",
      "Weather Normalized Site Electricity Intensity (kWh/ft²)       0.067002\n",
      "Weather Normalized Site Electricity (kWh)                     0.066916\n",
      "Electricity Use - Grid Purchase (kBtu)                        0.020773\n",
      "Site EUI (kBtu/ft²)                                           0.013877\n",
      "Source EUI (kBtu/ft²)                                         0.013877\n",
      "NYC Building Identification Number (BIN)                      0.013792\n",
      "Street Number                                                 0.010557\n",
      "Street Name                                                   0.010387\n",
      "DOF Gross Floor Area                                          0.010046\n",
      "Borough                                                       0.010046\n",
      "Water Required?                                               0.010046\n",
      "Direct GHG Emissions (Metric Tons CO2e)                       0.007066\n",
      "Total GHG Emissions (Metric Tons CO2e)                        0.006300\n",
      "Indirect GHG Emissions (Metric Tons CO2e)                     0.005534\n",
      "Metered Areas (Energy)                                        0.004853\n",
      "DOF Benchmarking Submission Status                            0.002554\n",
      "BBL - 10 digits                                               0.000936\n",
      "NYC Borough, Block and Lot (BBL) self-reported                0.000936\n",
      "Largest Property Use Type - Gross Floor Area (ft²)            0.000170\n",
      "Largest Property Use Type                                     0.000170\n",
      "Release Date                                                  0.000000\n",
      "Property Id                                                   0.000000\n",
      "Property Name                                                 0.000000\n",
      "Parent Property Id                                            0.000000\n",
      "Parent Property Name                                          0.000000\n",
      "Postal Code                                                   0.000000\n",
      "Address 1 (self-reported)                                     0.000000\n",
      "Property GFA - Self-Reported (ft²)                            0.000000\n",
      "Occupancy                                                     0.000000\n",
      "Number of Buildings - Self-reported                           0.000000\n",
      "Year Built                                                    0.000000\n",
      "Primary Property Type - Self Selected                         0.000000\n",
      "List of All Property Use Types at Property                    0.000000\n",
      "Order                                                         0.000000\n",
      "dtype: float64\n"
     ]
    }
   ],
   "source": [
    "\"\"\"\n",
    "Missing Values\n",
    "\"\"\"\n",
    "\n",
    "# Getting a sense of how many missing values are in each column\n",
    "ser_miss_cnt = df.isnull().sum().sort_values(ascending = False)\n",
    "ser_miss_rate = ser_miss_cnt / len(df)\n",
    "print(ser_miss_cnt)\n",
    "print(ser_miss_rate)"
   ]
  },
  {
   "cell_type": "code",
   "execution_count": 7,
   "metadata": {},
   "outputs": [
    {
     "name": "stdout",
     "output_type": "stream",
     "text": [
      "Fuel Oil #1 Use (kBtu)                                    0.999234\n",
      "Diesel #2 Use (kBtu)                                      0.998638\n",
      "Address 2                                                 0.982377\n",
      "Fuel Oil #5 & 6 Use (kBtu)                                0.949430\n",
      "District Steam Use (kBtu)                                 0.920313\n",
      "Fuel Oil #4 Use (kBtu)                                    0.887536\n",
      "3rd Largest Property Use Type - Gross Floor Area (ft²)    0.873659\n",
      "3rd Largest Property Use Type                             0.873659\n",
      "Fuel Oil #2 Use (kBtu)                                    0.780266\n",
      "2nd Largest Property Use Type                             0.681509\n",
      "2nd Largest Property Use - Gross Floor Area (ft²)         0.681509\n",
      "dtype: float64\n"
     ]
    }
   ],
   "source": [
    "# Remove any columns with more than threshold of missing rate\n",
    "threshold = 0.5\n",
    "\n",
    "print(ser_miss_rate[ser_miss_rate > 0.5])\n",
    "del_list = ser_miss_rate[ser_miss_rate > 0.5].index"
   ]
  },
  {
   "cell_type": "code",
   "execution_count": 8,
   "metadata": {},
   "outputs": [
    {
     "data": {
      "text/html": [
       "<div>\n",
       "<style scoped>\n",
       "    .dataframe tbody tr th:only-of-type {\n",
       "        vertical-align: middle;\n",
       "    }\n",
       "\n",
       "    .dataframe tbody tr th {\n",
       "        vertical-align: top;\n",
       "    }\n",
       "\n",
       "    .dataframe thead th {\n",
       "        text-align: right;\n",
       "    }\n",
       "</style>\n",
       "<table border=\"1\" class=\"dataframe\">\n",
       "  <thead>\n",
       "    <tr style=\"text-align: right;\">\n",
       "      <th></th>\n",
       "      <th>Order</th>\n",
       "      <th>Property Id</th>\n",
       "      <th>Property Name</th>\n",
       "      <th>Parent Property Id</th>\n",
       "      <th>Parent Property Name</th>\n",
       "      <th>BBL - 10 digits</th>\n",
       "      <th>NYC Borough, Block and Lot (BBL) self-reported</th>\n",
       "      <th>NYC Building Identification Number (BIN)</th>\n",
       "      <th>Address 1 (self-reported)</th>\n",
       "      <th>Postal Code</th>\n",
       "      <th>...</th>\n",
       "      <th>Source EUI (kBtu/ft²)</th>\n",
       "      <th>Release Date</th>\n",
       "      <th>Water Required?</th>\n",
       "      <th>DOF Benchmarking Submission Status</th>\n",
       "      <th>Latitude</th>\n",
       "      <th>Longitude</th>\n",
       "      <th>Community Board</th>\n",
       "      <th>Council District</th>\n",
       "      <th>Census Tract</th>\n",
       "      <th>NTA</th>\n",
       "    </tr>\n",
       "  </thead>\n",
       "  <tbody>\n",
       "    <tr>\n",
       "      <th>0</th>\n",
       "      <td>1</td>\n",
       "      <td>13286</td>\n",
       "      <td>201/205</td>\n",
       "      <td>13286</td>\n",
       "      <td>201/205</td>\n",
       "      <td>1013160001</td>\n",
       "      <td>1013160001</td>\n",
       "      <td>1037549</td>\n",
       "      <td>201/205  East  42nd  st.</td>\n",
       "      <td>10017</td>\n",
       "      <td>...</td>\n",
       "      <td>619.4</td>\n",
       "      <td>05/01/2017 05:32:03 PM</td>\n",
       "      <td>No</td>\n",
       "      <td>In Compliance</td>\n",
       "      <td>40.750791</td>\n",
       "      <td>-73.973963</td>\n",
       "      <td>6.0</td>\n",
       "      <td>4.0</td>\n",
       "      <td>88.0</td>\n",
       "      <td>Turtle Bay-East Midtown                       ...</td>\n",
       "    </tr>\n",
       "    <tr>\n",
       "      <th>1</th>\n",
       "      <td>2</td>\n",
       "      <td>28400</td>\n",
       "      <td>NYP Columbia (West Campus)</td>\n",
       "      <td>28400</td>\n",
       "      <td>NYP Columbia (West Campus)</td>\n",
       "      <td>1021380040</td>\n",
       "      <td>1-02138-0040</td>\n",
       "      <td>1084198; 1084387;1084385; 1084386; 1084388; 10...</td>\n",
       "      <td>622 168th Street</td>\n",
       "      <td>10032</td>\n",
       "      <td>...</td>\n",
       "      <td>404.3</td>\n",
       "      <td>04/27/2017 11:23:27 AM</td>\n",
       "      <td>No</td>\n",
       "      <td>In Compliance</td>\n",
       "      <td>40.841402</td>\n",
       "      <td>-73.942568</td>\n",
       "      <td>12.0</td>\n",
       "      <td>10.0</td>\n",
       "      <td>251.0</td>\n",
       "      <td>Washington Heights South                      ...</td>\n",
       "    </tr>\n",
       "    <tr>\n",
       "      <th>2</th>\n",
       "      <td>3</td>\n",
       "      <td>4778226</td>\n",
       "      <td>MSCHoNY North</td>\n",
       "      <td>28400</td>\n",
       "      <td>NYP Columbia (West Campus)</td>\n",
       "      <td>1021380030</td>\n",
       "      <td>1-02138-0030</td>\n",
       "      <td>1063380</td>\n",
       "      <td>3975 Broadway</td>\n",
       "      <td>10032</td>\n",
       "      <td>...</td>\n",
       "      <td>NaN</td>\n",
       "      <td>04/27/2017 11:23:27 AM</td>\n",
       "      <td>No</td>\n",
       "      <td>In Compliance</td>\n",
       "      <td>40.840427</td>\n",
       "      <td>-73.940249</td>\n",
       "      <td>12.0</td>\n",
       "      <td>10.0</td>\n",
       "      <td>251.0</td>\n",
       "      <td>Washington Heights South                      ...</td>\n",
       "    </tr>\n",
       "    <tr>\n",
       "      <th>3</th>\n",
       "      <td>4</td>\n",
       "      <td>4778267</td>\n",
       "      <td>Herbert Irving Pavilion &amp; Millstein Hospital</td>\n",
       "      <td>28400</td>\n",
       "      <td>NYP Columbia (West Campus)</td>\n",
       "      <td>1021390001</td>\n",
       "      <td>1-02139-0001</td>\n",
       "      <td>1087281; 1076746</td>\n",
       "      <td>161 Fort Washington Ave</td>\n",
       "      <td>10032</td>\n",
       "      <td>...</td>\n",
       "      <td>NaN</td>\n",
       "      <td>04/27/2017 11:23:27 AM</td>\n",
       "      <td>No</td>\n",
       "      <td>In Compliance</td>\n",
       "      <td>40.840746</td>\n",
       "      <td>-73.942854</td>\n",
       "      <td>12.0</td>\n",
       "      <td>10.0</td>\n",
       "      <td>255.0</td>\n",
       "      <td>Washington Heights South                      ...</td>\n",
       "    </tr>\n",
       "    <tr>\n",
       "      <th>4</th>\n",
       "      <td>5</td>\n",
       "      <td>4778288</td>\n",
       "      <td>Neuro Institute</td>\n",
       "      <td>28400</td>\n",
       "      <td>NYP Columbia (West Campus)</td>\n",
       "      <td>1021390085</td>\n",
       "      <td>1-02139-0085</td>\n",
       "      <td>1063403</td>\n",
       "      <td>710 West 168th Street</td>\n",
       "      <td>10032</td>\n",
       "      <td>...</td>\n",
       "      <td>NaN</td>\n",
       "      <td>04/27/2017 11:23:27 AM</td>\n",
       "      <td>No</td>\n",
       "      <td>In Compliance</td>\n",
       "      <td>40.841559</td>\n",
       "      <td>-73.942528</td>\n",
       "      <td>12.0</td>\n",
       "      <td>10.0</td>\n",
       "      <td>255.0</td>\n",
       "      <td>Washington Heights South                      ...</td>\n",
       "    </tr>\n",
       "  </tbody>\n",
       "</table>\n",
       "<p>5 rows × 49 columns</p>\n",
       "</div>"
      ],
      "text/plain": [
       "   Order  Property Id                                 Property Name  \\\n",
       "0      1        13286                                       201/205   \n",
       "1      2        28400                    NYP Columbia (West Campus)   \n",
       "2      3      4778226                                 MSCHoNY North   \n",
       "3      4      4778267  Herbert Irving Pavilion & Millstein Hospital   \n",
       "4      5      4778288                               Neuro Institute   \n",
       "\n",
       "  Parent Property Id        Parent Property Name BBL - 10 digits  \\\n",
       "0              13286                     201/205      1013160001   \n",
       "1              28400  NYP Columbia (West Campus)      1021380040   \n",
       "2              28400  NYP Columbia (West Campus)      1021380030   \n",
       "3              28400  NYP Columbia (West Campus)      1021390001   \n",
       "4              28400  NYP Columbia (West Campus)      1021390085   \n",
       "\n",
       "  NYC Borough, Block and Lot (BBL) self-reported  \\\n",
       "0                                     1013160001   \n",
       "1                                   1-02138-0040   \n",
       "2                                   1-02138-0030   \n",
       "3                                   1-02139-0001   \n",
       "4                                   1-02139-0085   \n",
       "\n",
       "            NYC Building Identification Number (BIN)  \\\n",
       "0                                            1037549   \n",
       "1  1084198; 1084387;1084385; 1084386; 1084388; 10...   \n",
       "2                                            1063380   \n",
       "3                                   1087281; 1076746   \n",
       "4                                            1063403   \n",
       "\n",
       "  Address 1 (self-reported) Postal Code  ... Source EUI (kBtu/ft²)  \\\n",
       "0  201/205  East  42nd  st.       10017  ...                 619.4   \n",
       "1          622 168th Street       10032  ...                 404.3   \n",
       "2             3975 Broadway       10032  ...                   NaN   \n",
       "3   161 Fort Washington Ave       10032  ...                   NaN   \n",
       "4     710 West 168th Street       10032  ...                   NaN   \n",
       "\n",
       "             Release Date Water Required?  DOF Benchmarking Submission Status  \\\n",
       "0  05/01/2017 05:32:03 PM              No                       In Compliance   \n",
       "1  04/27/2017 11:23:27 AM              No                       In Compliance   \n",
       "2  04/27/2017 11:23:27 AM              No                       In Compliance   \n",
       "3  04/27/2017 11:23:27 AM              No                       In Compliance   \n",
       "4  04/27/2017 11:23:27 AM              No                       In Compliance   \n",
       "\n",
       "    Latitude  Longitude Community Board  Council District  Census Tract  \\\n",
       "0  40.750791 -73.973963             6.0               4.0          88.0   \n",
       "1  40.841402 -73.942568            12.0              10.0         251.0   \n",
       "2  40.840427 -73.940249            12.0              10.0         251.0   \n",
       "3  40.840746 -73.942854            12.0              10.0         255.0   \n",
       "4  40.841559 -73.942528            12.0              10.0         255.0   \n",
       "\n",
       "                                                 NTA  \n",
       "0  Turtle Bay-East Midtown                       ...  \n",
       "1  Washington Heights South                      ...  \n",
       "2  Washington Heights South                      ...  \n",
       "3  Washington Heights South                      ...  \n",
       "4  Washington Heights South                      ...  \n",
       "\n",
       "[5 rows x 49 columns]"
      ]
     },
     "execution_count": 8,
     "metadata": {},
     "output_type": "execute_result"
    }
   ],
   "source": [
    "# Drop the columns\n",
    "df.drop(columns=del_list, inplace=True)\n",
    "df.head()"
   ]
  },
  {
   "cell_type": "code",
   "execution_count": 9,
   "metadata": {},
   "outputs": [
    {
     "name": "stdout",
     "output_type": "stream",
     "text": [
      "Using matplotlib backend: Qt5Agg\n"
     ]
    }
   ],
   "source": [
    "\"\"\"\n",
    "Exploratory Data Analysis\n",
    "\"\"\"\n",
    "\n",
    "# Visualization setup\n",
    "%matplotlib\n",
    "%config InlineBackend.figure_format = 'svg'\n",
    "\n",
    "from matplotlib import pyplot as plt\n",
    "plt.rcParams['figure.figsize'] = [10, 5]\n",
    "plt.ion() # enable the interactive mode\n",
    "\n",
    "import seaborn as sns\n",
    "sns.set()  # set plot styles\n"
   ]
  },
  {
   "cell_type": "code",
   "execution_count": 10,
   "metadata": {},
   "outputs": [
    {
     "data": {
      "text/plain": [
       "Text(0.5, 1.0, 'Energy Star Score Distribution')"
      ]
     },
     "execution_count": 10,
     "metadata": {},
     "output_type": "execute_result"
    }
   ],
   "source": [
    "# Rename the score\n",
    "df = df.rename(columns = {'ENERGY STAR Score': 'Score'})\n",
    "\n",
    "# Plot the histogram of the Energy Star Score\n",
    "plt.style.use('fivethirtyeight')\n",
    "plt.hist(df['Score'].dropna(), bins = 100, edgecolor = 'k')\n",
    "plt.xlabel('Score')\n",
    "plt.ylabel('Number of Buildings')\n",
    "plt.title('Energy Star Score Distribution')"
   ]
  },
  {
   "cell_type": "code",
   "execution_count": 11,
   "metadata": {},
   "outputs": [
    {
     "data": {
      "text/plain": [
       "Text(0.5, 1.0, 'Site EUI Distribution')"
      ]
     },
     "execution_count": 11,
     "metadata": {},
     "output_type": "execute_result"
    }
   ],
   "source": [
    "# Plot the histogram of Site EUI\n",
    "plt.hist(df['Site EUI (kBtu/ft²)'].dropna(), bins = 20, edgecolor = 'black')\n",
    "plt.xlabel('Site EUI')\n",
    "plt.ylabel('Count')\n",
    "plt.title('Site EUI Distribution')"
   ]
  },
  {
   "cell_type": "code",
   "execution_count": 12,
   "metadata": {},
   "outputs": [
    {
     "data": {
      "text/plain": [
       "count     11583.000000\n",
       "mean        280.071484\n",
       "std        8607.178877\n",
       "min           0.000000\n",
       "25%          61.800000\n",
       "50%          78.500000\n",
       "75%          97.600000\n",
       "max      869265.000000\n",
       "Name: Site EUI (kBtu/ft²), dtype: float64"
      ]
     },
     "execution_count": 12,
     "metadata": {},
     "output_type": "execute_result"
    }
   ],
   "source": [
    "# Descriptive statistics\n",
    "df['Site EUI (kBtu/ft²)'].describe()"
   ]
  },
  {
   "cell_type": "code",
   "execution_count": 13,
   "metadata": {},
   "outputs": [
    {
     "data": {
      "text/plain": [
       "3173     51328.8\n",
       "3170     51831.2\n",
       "3383     78360.1\n",
       "8269     84969.6\n",
       "3263     95560.2\n",
       "8268    103562.7\n",
       "8174    112173.6\n",
       "3898    126307.4\n",
       "7       143974.4\n",
       "8068    869265.0\n",
       "Name: Site EUI (kBtu/ft²), dtype: float64"
      ]
     },
     "execution_count": 13,
     "metadata": {},
     "output_type": "execute_result"
    }
   ],
   "source": [
    "df['Site EUI (kBtu/ft²)'].dropna().sort_values().tail(10)"
   ]
  },
  {
   "cell_type": "code",
   "execution_count": 14,
   "metadata": {},
   "outputs": [
    {
     "data": {
      "text/html": [
       "<div>\n",
       "<style scoped>\n",
       "    .dataframe tbody tr th:only-of-type {\n",
       "        vertical-align: middle;\n",
       "    }\n",
       "\n",
       "    .dataframe tbody tr th {\n",
       "        vertical-align: top;\n",
       "    }\n",
       "\n",
       "    .dataframe thead th {\n",
       "        text-align: right;\n",
       "    }\n",
       "</style>\n",
       "<table border=\"1\" class=\"dataframe\">\n",
       "  <thead>\n",
       "    <tr style=\"text-align: right;\">\n",
       "      <th></th>\n",
       "      <th>Order</th>\n",
       "      <th>Property Id</th>\n",
       "      <th>Property Name</th>\n",
       "      <th>Parent Property Id</th>\n",
       "      <th>Parent Property Name</th>\n",
       "      <th>BBL - 10 digits</th>\n",
       "      <th>NYC Borough, Block and Lot (BBL) self-reported</th>\n",
       "      <th>NYC Building Identification Number (BIN)</th>\n",
       "      <th>Address 1 (self-reported)</th>\n",
       "      <th>Postal Code</th>\n",
       "      <th>...</th>\n",
       "      <th>Source EUI (kBtu/ft²)</th>\n",
       "      <th>Release Date</th>\n",
       "      <th>Water Required?</th>\n",
       "      <th>DOF Benchmarking Submission Status</th>\n",
       "      <th>Latitude</th>\n",
       "      <th>Longitude</th>\n",
       "      <th>Community Board</th>\n",
       "      <th>Council District</th>\n",
       "      <th>Census Tract</th>\n",
       "      <th>NTA</th>\n",
       "    </tr>\n",
       "  </thead>\n",
       "  <tbody>\n",
       "    <tr>\n",
       "      <th>8068</th>\n",
       "      <td>9984</td>\n",
       "      <td>4414323</td>\n",
       "      <td>234 Skillman</td>\n",
       "      <td>Not Applicable: Standalone Property</td>\n",
       "      <td>Not Applicable: Standalone Property</td>\n",
       "      <td>3028937502</td>\n",
       "      <td>3028937502</td>\n",
       "      <td>3390250 , 3338313</td>\n",
       "      <td>234 Skillman avenue</td>\n",
       "      <td>11211</td>\n",
       "      <td>...</td>\n",
       "      <td>912801.1</td>\n",
       "      <td>05/01/2017 11:34:14 PM</td>\n",
       "      <td>NaN</td>\n",
       "      <td>In Compliance</td>\n",
       "      <td>40.716233</td>\n",
       "      <td>-73.94141</td>\n",
       "      <td>1.0</td>\n",
       "      <td>34.0</td>\n",
       "      <td>477.0</td>\n",
       "      <td>East Williamsburg                             ...</td>\n",
       "    </tr>\n",
       "  </tbody>\n",
       "</table>\n",
       "<p>1 rows × 49 columns</p>\n",
       "</div>"
      ],
      "text/plain": [
       "      Order  Property Id Property Name                   Parent Property Id  \\\n",
       "8068   9984      4414323  234 Skillman  Not Applicable: Standalone Property   \n",
       "\n",
       "                     Parent Property Name BBL - 10 digits  \\\n",
       "8068  Not Applicable: Standalone Property      3028937502   \n",
       "\n",
       "     NYC Borough, Block and Lot (BBL) self-reported  \\\n",
       "8068                                     3028937502   \n",
       "\n",
       "     NYC Building Identification Number (BIN) Address 1 (self-reported)  \\\n",
       "8068                        3390250 , 3338313       234 Skillman avenue   \n",
       "\n",
       "     Postal Code  ... Source EUI (kBtu/ft²)            Release Date  \\\n",
       "8068       11211  ...              912801.1  05/01/2017 11:34:14 PM   \n",
       "\n",
       "     Water Required?  DOF Benchmarking Submission Status   Latitude Longitude  \\\n",
       "8068             NaN                       In Compliance  40.716233 -73.94141   \n",
       "\n",
       "     Community Board  Council District  Census Tract  \\\n",
       "8068             1.0              34.0         477.0   \n",
       "\n",
       "                                                    NTA  \n",
       "8068  East Williamsburg                             ...  \n",
       "\n",
       "[1 rows x 49 columns]"
      ]
     },
     "execution_count": 14,
     "metadata": {},
     "output_type": "execute_result"
    }
   ],
   "source": [
    "df.loc[df['Site EUI (kBtu/ft²)'] == 869265, :]\n"
   ]
  },
  {
   "cell_type": "code",
   "execution_count": 15,
   "metadata": {},
   "outputs": [
    {
     "name": "stdout",
     "output_type": "stream",
     "text": [
      "Q1 = 61.8\n",
      "Q3 = 97.6\n"
     ]
    }
   ],
   "source": [
    "\"\"\"\n",
    "Removing Outliers\n",
    "- IQR-based outlier detection and elimination\n",
    "- Definition of an extreme outlier:\n",
    "    x < Q1 - 3IQR or x > Q3 - 3IQR\n",
    "\"\"\"\n",
    "\n",
    "# Calculate Q1 and Q3\n",
    "q1 = df['Site EUI (kBtu/ft²)'].quantile(0.25)\n",
    "q3 = df['Site EUI (kBtu/ft²)'].quantile(0.75)\n",
    "\n",
    "print('Q1 =', q1)\n",
    "print('Q3 =', q3)\n",
    "\n"
   ]
  },
  {
   "cell_type": "code",
   "execution_count": 16,
   "metadata": {},
   "outputs": [
    {
     "name": "stdout",
     "output_type": "stream",
     "text": [
      "IQR = 35.8\n",
      "Upper fence = 205.0\n",
      "Lower fence = -45.599999999999994\n"
     ]
    }
   ],
   "source": [
    "# IQR\n",
    "iqr = q3-q1\n",
    "\n",
    "# Upper/lower fences\n",
    "# 1.5: mild outliers\n",
    "# 3: extreme outliers\n",
    "\n",
    "upper_fence = q3 + 3*iqr\n",
    "lower_fence = q1 - 3*iqr\n",
    "\n",
    "print('IQR =', iqr)\n",
    "print('Upper fence =', upper_fence)\n",
    "print('Lower fence =', lower_fence)"
   ]
  },
  {
   "cell_type": "code",
   "execution_count": 17,
   "metadata": {},
   "outputs": [
    {
     "data": {
      "text/plain": [
       "(11319,)"
      ]
     },
     "execution_count": 17,
     "metadata": {},
     "output_type": "execute_result"
    }
   ],
   "source": [
    "# Obtain a refined dataset (without extreme outliers)\n",
    "df = df[ (df['Site EUI (kBtu/ft²)'] < upper_fence) &\n",
    "      (df['Site EUI (kBtu/ft²)'] > lower_fence) ]\n",
    "\n",
    "df['Site EUI (kBtu/ft²)'].shape"
   ]
  },
  {
   "cell_type": "code",
   "execution_count": 18,
   "metadata": {},
   "outputs": [
    {
     "data": {
      "text/plain": [
       "Text(0.5, 1.0, 'Site EUI Distribution')"
      ]
     },
     "execution_count": 18,
     "metadata": {},
     "output_type": "execute_result"
    }
   ],
   "source": [
    "# Histogram of Site EUI after outlier eliminations\n",
    "\n",
    "plt.hist(df['Site EUI (kBtu/ft²)'].dropna(), bins = 20, edgecolor = 'black')\n",
    "plt.xlabel('Site EUI')\n",
    "plt.ylabel('Count')\n",
    "plt.title('Site EUI Distribution')"
   ]
  },
  {
   "cell_type": "code",
   "execution_count": 19,
   "metadata": {},
   "outputs": [
    {
     "data": {
      "text/plain": [
       "Multifamily Housing                      7464\n",
       "Office                                   1157\n",
       "Hotel                                     202\n",
       "Non-Refrigerated Warehouse                156\n",
       "K-12 School                                97\n",
       "Residence Hall/Dormitory                   96\n",
       "Senior Care Community                      85\n",
       "Distribution Center                        61\n",
       "Retail Store                               57\n",
       "Medical Office                             23\n",
       "Hospital (General Medical & Surgical)      15\n",
       "Financial Office                           12\n",
       "Supermarket/Grocery Store                  10\n",
       "Worship Facility                            9\n",
       "Refrigerated Warehouse                      8\n",
       "Wholesale Club/Supercenter                  3\n",
       "Parking                                     3\n",
       "Courthouse                                  2\n",
       "Bank Branch                                 1\n",
       "Name: Largest Property Use Type, dtype: int64"
      ]
     },
     "execution_count": 19,
     "metadata": {},
     "output_type": "execute_result"
    }
   ],
   "source": [
    "\"\"\"\n",
    "Looking for Relationships\n",
    "- Investigate categorical variables and the target variable (Energy Star Score)\n",
    "- Categorical variable 1: Largest Property Use Type: Property type of a building\n",
    "- Categorical variable 2: Borough\n",
    "\"\"\"\n",
    "\n",
    "# Relationships between property types and scores\n",
    "\n",
    "df_has_score = df.dropna(subset=['Score'])  # Select data with Score\n",
    "types = df_has_score['Largest Property Use Type'].value_counts()   # Count buildings by the property type\n",
    "types"
   ]
  },
  {
   "cell_type": "code",
   "execution_count": 20,
   "metadata": {},
   "outputs": [
    {
     "data": {
      "text/plain": [
       "Index(['Multifamily Housing', 'Office', 'Hotel', 'Non-Refrigerated Warehouse'], dtype='object')"
      ]
     },
     "execution_count": 20,
     "metadata": {},
     "output_type": "execute_result"
    }
   ],
   "source": [
    "# Select property types whose frequencies are more than 100\n",
    "types_100 = types[types.values > 100].index\n",
    "types_100"
   ]
  },
  {
   "cell_type": "code",
   "execution_count": 21,
   "metadata": {},
   "outputs": [
    {
     "data": {
      "text/plain": [
       "<matplotlib.legend.Legend at 0x1a3d3b5d1f0>"
      ]
     },
     "execution_count": 21,
     "metadata": {},
     "output_type": "execute_result"
    }
   ],
   "source": [
    "# Plot the distribution of Scores for property types\n",
    "\n",
    "for b_type in types_100:\n",
    "    # Select buildings by property type\n",
    "    subset = df[df['Largest Property Use Type'] == b_type]\n",
    "    \n",
    "    # Density plot of Energy Star Scores\n",
    "    sns.kdeplot(subset['Score'].dropna(),\n",
    "               label=b_type, alpha=0.8)\n",
    "\n",
    "plt.xlabel('Energy Star Scores')\n",
    "plt.ylabel('Density')\n",
    "plt.title('Density Plot of Energy Star Scores by Building Type')\n",
    "plt.legend(loc='best')"
   ]
  },
  {
   "cell_type": "code",
   "execution_count": 22,
   "metadata": {},
   "outputs": [
    {
     "name": "stdout",
     "output_type": "stream",
     "text": [
      "Manhattan        3985\n",
      "Brooklyn         1947\n",
      "Queens           1707\n",
      "Bronx            1655\n",
      "Staten Island     119\n",
      "Name: Borough, dtype: int64\n"
     ]
    },
    {
     "data": {
      "text/plain": [
       "Index(['Manhattan', 'Brooklyn', 'Queens', 'Bronx', 'Staten Island'], dtype='object')"
      ]
     },
     "execution_count": 22,
     "metadata": {},
     "output_type": "execute_result"
    }
   ],
   "source": [
    "# Examine another categorical variable 'Borough'\n",
    "boroughs = df_has_score['Borough'].value_counts()  # Count buildings by the borough\n",
    "print(boroughs)\n",
    "\n",
    "boroughs = boroughs.index\n",
    "boroughs"
   ]
  },
  {
   "cell_type": "code",
   "execution_count": 23,
   "metadata": {},
   "outputs": [
    {
     "data": {
      "text/plain": [
       "<matplotlib.legend.Legend at 0x1a3d410d9d0>"
      ]
     },
     "execution_count": 23,
     "metadata": {},
     "output_type": "execute_result"
    }
   ],
   "source": [
    "# Plot each borough distribution of scores\n",
    "for borough in boroughs:\n",
    "    # Select buildings by borough\n",
    "    subset = df[df['Borough'] == borough]\n",
    "    \n",
    "    # Density plot of Energy Star Scores\n",
    "    sns.kdeplot(subset['Score'].dropna(),\n",
    "               label=borough)\n",
    "\n",
    "plt.xlabel(\"Energy Star Scores\")\n",
    "plt.ylabel('Density')\n",
    "plt.title(\"Density Plot of Energy Star Scores by Borough\")\n",
    "plt.legend(loc='best')\n",
    "    "
   ]
  },
  {
   "cell_type": "code",
   "execution_count": 24,
   "metadata": {},
   "outputs": [
    {
     "data": {
      "text/plain": [
       "Site EUI (kBtu/ft²)                                          -0.723864\n",
       "Weather Normalized Site EUI (kBtu/ft²)                       -0.713993\n",
       "Weather Normalized Source EUI (kBtu/ft²)                     -0.645542\n",
       "Source EUI (kBtu/ft²)                                        -0.641037\n",
       "Weather Normalized Site Electricity Intensity (kWh/ft²)      -0.358394\n",
       "Weather Normalized Site Natural Gas Intensity (therms/ft²)   -0.346046\n",
       "Direct GHG Emissions (Metric Tons CO2e)                      -0.147792\n",
       "Weather Normalized Site Natural Gas Use (therms)             -0.135211\n",
       "Natural Gas Use (kBtu)                                       -0.133648\n",
       "Year Built                                                   -0.121249\n",
       "Total GHG Emissions (Metric Tons CO2e)                       -0.113136\n",
       "Electricity Use - Grid Purchase (kBtu)                       -0.050639\n",
       "Weather Normalized Site Electricity (kWh)                    -0.048207\n",
       "Latitude                                                     -0.048196\n",
       "Property Id                                                  -0.046605\n",
       "Indirect GHG Emissions (Metric Tons CO2e)                    -0.043982\n",
       "Longitude                                                    -0.037455\n",
       "Occupancy                                                    -0.033215\n",
       "Number of Buildings - Self-reported                          -0.022407\n",
       "Water Use (All Water Sources) (kgal)                         -0.013681\n",
       "Water Intensity (All Water Sources) (gal/ft²)                -0.012148\n",
       "Census Tract                                                 -0.002299\n",
       "DOF Gross Floor Area                                          0.013001\n",
       "Property GFA - Self-Reported (ft²)                            0.017360\n",
       "Largest Property Use Type - Gross Floor Area (ft²)            0.018330\n",
       "Order                                                         0.036827\n",
       "Community Board                                               0.056612\n",
       "Council District                                              0.061639\n",
       "Score                                                         1.000000\n",
       "Name: Score, dtype: float64"
      ]
     },
     "execution_count": 24,
     "metadata": {},
     "output_type": "execute_result"
    }
   ],
   "source": [
    "\"\"\"\n",
    "Correlations between Features and Target Variable\n",
    "\"\"\"\n",
    "\n",
    "# Calculate Pearson correlation coefficients between each feature and the target variable\n",
    "corr = df.corr()['Score'].sort_values()\n",
    "corr"
   ]
  },
  {
   "cell_type": "code",
   "execution_count": 25,
   "metadata": {},
   "outputs": [],
   "source": [
    "\"\"\"\n",
    "Two-Variable Plots\n",
    "- Variable 1: Site EUI\n",
    "- Variable 2: Largest Property Use Type\n",
    "- Target: Energy Star Score\n",
    "\"\"\"\n",
    "\n",
    "# Extract the building types\n",
    "df['Largest Property Use Type'] = df.dropna(subset = ['Score'])['Largest Property Use Type']"
   ]
  },
  {
   "cell_type": "code",
   "execution_count": 26,
   "metadata": {},
   "outputs": [
    {
     "name": "stdout",
     "output_type": "stream",
     "text": [
      "Index(['Multifamily Housing', 'Office', 'Hotel', 'Non-Refrigerated Warehouse'], dtype='object')\n"
     ]
    },
    {
     "data": {
      "text/plain": [
       "(8979, 49)"
      ]
     },
     "execution_count": 26,
     "metadata": {},
     "output_type": "execute_result"
    }
   ],
   "source": [
    "# Limit to building types with more than 100 observations\n",
    "print(types_100)\n",
    "df = df[df['Largest Property Use Type'].isin(types_100)]\n",
    "df.shape"
   ]
  },
  {
   "cell_type": "code",
   "execution_count": 27,
   "metadata": {},
   "outputs": [
    {
     "name": "stderr",
     "output_type": "stream",
     "text": [
      "D:\\dev\\anaconda\\lib\\site-packages\\seaborn\\regression.py:573: UserWarning: The `size` parameter has been renamed to `height`; please update your code.\n",
      "  warnings.warn(msg, UserWarning)\n"
     ]
    },
    {
     "data": {
      "text/plain": [
       "Text(0.5, 1.0, 'Energy Star Score vs Site EUI')"
      ]
     },
     "execution_count": 27,
     "metadata": {},
     "output_type": "execute_result"
    }
   ],
   "source": [
    "# Scatterplot of Score vs Site EUI\n",
    "\n",
    "sns.lmplot('Site EUI (kBtu/ft²)', 'Score',\n",
    "          hue='Largest Property Use Type', data=df,\n",
    "          scatter_kws={'alpha': 0.8}, fit_reg=False,\n",
    "          size=12, aspect=1.2)\n",
    "\n",
    "plt.xlabel('Site EUI')\n",
    "plt.ylabel('Enery Star Score')\n",
    "plt.title('Energy Star Score vs Site EUI')"
   ]
  },
  {
   "cell_type": "code",
   "execution_count": 28,
   "metadata": {},
   "outputs": [],
   "source": [
    "\"\"\"\n",
    "Pairs Plot\n",
    "\"\"\"\n",
    "\n",
    "# Select the columns to plot\n",
    "df_plot = df[['Score',\n",
    "              'Site EUI (kBtu/ft²)',\n",
    "              'Weather Normalized Site EUI (kBtu/ft²)',\n",
    "              'Weather Normalized Source EUI (kBtu/ft²)',\n",
    "              'Source EUI (kBtu/ft²)',\n",
    "              'Weather Normalized Site Electricity Intensity (kWh/ft²)',\n",
    "              'Total GHG Emissions (Metric Tons CO2e)']]"
   ]
  },
  {
   "cell_type": "code",
   "execution_count": 29,
   "metadata": {},
   "outputs": [
    {
     "name": "stderr",
     "output_type": "stream",
     "text": [
      "D:\\dev\\anaconda\\lib\\site-packages\\pandas\\core\\frame.py:4125: SettingWithCopyWarning: \n",
      "A value is trying to be set on a copy of a slice from a DataFrame\n",
      "\n",
      "See the caveats in the documentation: https://pandas.pydata.org/pandas-docs/stable/user_guide/indexing.html#returning-a-view-versus-a-copy\n",
      "  return super().rename(\n"
     ]
    }
   ],
   "source": [
    "# Rename columns\n",
    "df_plot.rename(columns={'Site EUI (kBtu/ft²)':\n",
    "                        'Site EUI',\n",
    "                       'Weather Normalized Site EUI (kBtu/ft²)':\n",
    "                        'Weather Norm Site EUI',\n",
    "                       'Weather Normalized Source EUI (kBtu/ft²)':\n",
    "                        'Weather Norm Src EUI)',\n",
    "                       'Source EUI (kBtu/ft²)':\n",
    "                        'Source EUI',\n",
    "                       'Weather Normalized Site Electricity Intensity (kWh/ft²)':\n",
    "                        'Weather Norm Site Elec Intensity',\n",
    "                       'Total GHG Emissions (Metric Tons CO2e)':\n",
    "                       'Total GHG Emissions'}, inplace=True)"
   ]
  },
  {
   "cell_type": "code",
   "execution_count": 30,
   "metadata": {},
   "outputs": [],
   "source": [
    "# Replace the inf with nan\n",
    "df_plot = df_plot.replace({np.inf: np.nan, -np.inf: np.nan})\n",
    "\n",
    "# Drop NA values\n",
    "df_plot.dropna(inplace=True)"
   ]
  },
  {
   "cell_type": "code",
   "execution_count": null,
   "metadata": {},
   "outputs": [],
   "source": [
    "# Function to calculate correlation coefficient between two columns\n",
    "\n",
    "# Plot a correlation matrix using pairplot\n",
    "sns.pairplot(df_plot, kind='reg', diag_kind='kde', \n",
    "            plot_kws={'scatter_kws': {'alpha': 0.1}})\n"
   ]
  },
  {
   "cell_type": "code",
   "execution_count": 31,
   "metadata": {},
   "outputs": [
    {
     "name": "stderr",
     "output_type": "stream",
     "text": [
      "<ipython-input-31-c6984423d577>:14: SettingWithCopyWarning: \n",
      "A value is trying to be set on a copy of a slice from a DataFrame.\n",
      "Try using .loc[row_indexer,col_indexer] = value instead\n",
      "\n",
      "See the caveats in the documentation: https://pandas.pydata.org/pandas-docs/stable/user_guide/indexing.html#returning-a-view-versus-a-copy\n",
      "  df_numeric['sqrt_' + col] = np.sqrt(df_numeric[col])\n",
      "<ipython-input-31-c6984423d577>:15: SettingWithCopyWarning: \n",
      "A value is trying to be set on a copy of a slice from a DataFrame.\n",
      "Try using .loc[row_indexer,col_indexer] = value instead\n",
      "\n",
      "See the caveats in the documentation: https://pandas.pydata.org/pandas-docs/stable/user_guide/indexing.html#returning-a-view-versus-a-copy\n",
      "  df_numeric['log_' + col] = np.log(df_numeric[col])\n",
      "D:\\dev\\anaconda\\lib\\site-packages\\pandas\\core\\series.py:679: RuntimeWarning: divide by zero encountered in log\n",
      "  result = getattr(ufunc, method)(*inputs, **kwargs)\n",
      "D:\\dev\\anaconda\\lib\\site-packages\\pandas\\core\\series.py:679: RuntimeWarning: invalid value encountered in sqrt\n",
      "  result = getattr(ufunc, method)(*inputs, **kwargs)\n",
      "D:\\dev\\anaconda\\lib\\site-packages\\pandas\\core\\series.py:679: RuntimeWarning: invalid value encountered in log\n",
      "  result = getattr(ufunc, method)(*inputs, **kwargs)\n"
     ]
    }
   ],
   "source": [
    "\"\"\"\n",
    "Feature Extraction & Selection\n",
    "\"\"\"\n",
    "\n",
    "# Create columns with square root and log of numeric columns\n",
    "\n",
    "df_numeric = df.select_dtypes('number') # select the numeric columns\n",
    "\n",
    "for col in df_numeric.columns:\n",
    "    # Skip the Energy Star Score column\n",
    "    if col == 'Score':\n",
    "        continue\n",
    "    else:\n",
    "        df_numeric['sqrt_' + col] = np.sqrt(df_numeric[col])\n",
    "        df_numeric['log_' + col] = np.log(df_numeric[col])\n"
   ]
  },
  {
   "cell_type": "code",
   "execution_count": 33,
   "metadata": {},
   "outputs": [
    {
     "data": {
      "text/html": [
       "<div>\n",
       "<style scoped>\n",
       "    .dataframe tbody tr th:only-of-type {\n",
       "        vertical-align: middle;\n",
       "    }\n",
       "\n",
       "    .dataframe tbody tr th {\n",
       "        vertical-align: top;\n",
       "    }\n",
       "\n",
       "    .dataframe thead th {\n",
       "        text-align: right;\n",
       "    }\n",
       "</style>\n",
       "<table border=\"1\" class=\"dataframe\">\n",
       "  <thead>\n",
       "    <tr style=\"text-align: right;\">\n",
       "      <th></th>\n",
       "      <th>Borough</th>\n",
       "      <th>Largest Property Use Type</th>\n",
       "    </tr>\n",
       "  </thead>\n",
       "  <tbody>\n",
       "    <tr>\n",
       "      <th>12</th>\n",
       "      <td>NaN</td>\n",
       "      <td>Multifamily Housing</td>\n",
       "    </tr>\n",
       "    <tr>\n",
       "      <th>18</th>\n",
       "      <td>NaN</td>\n",
       "      <td>Multifamily Housing</td>\n",
       "    </tr>\n",
       "    <tr>\n",
       "      <th>19</th>\n",
       "      <td>Manhattan</td>\n",
       "      <td>Multifamily Housing</td>\n",
       "    </tr>\n",
       "    <tr>\n",
       "      <th>20</th>\n",
       "      <td>Manhattan</td>\n",
       "      <td>Multifamily Housing</td>\n",
       "    </tr>\n",
       "    <tr>\n",
       "      <th>21</th>\n",
       "      <td>NaN</td>\n",
       "      <td>Multifamily Housing</td>\n",
       "    </tr>\n",
       "  </tbody>\n",
       "</table>\n",
       "</div>"
      ],
      "text/plain": [
       "      Borough Largest Property Use Type\n",
       "12        NaN       Multifamily Housing\n",
       "18        NaN       Multifamily Housing\n",
       "19  Manhattan       Multifamily Housing\n",
       "20  Manhattan       Multifamily Housing\n",
       "21        NaN       Multifamily Housing"
      ]
     },
     "execution_count": 33,
     "metadata": {},
     "output_type": "execute_result"
    }
   ],
   "source": [
    "# One-hot encoding for the categorical columns\n",
    "\n",
    "df_categoric = df[['Borough', 'Largest Property Use Type']]  # Select the categorical columns\n",
    "df_categoric.head()"
   ]
  },
  {
   "cell_type": "code",
   "execution_count": 34,
   "metadata": {},
   "outputs": [
    {
     "data": {
      "text/html": [
       "<div>\n",
       "<style scoped>\n",
       "    .dataframe tbody tr th:only-of-type {\n",
       "        vertical-align: middle;\n",
       "    }\n",
       "\n",
       "    .dataframe tbody tr th {\n",
       "        vertical-align: top;\n",
       "    }\n",
       "\n",
       "    .dataframe thead th {\n",
       "        text-align: right;\n",
       "    }\n",
       "</style>\n",
       "<table border=\"1\" class=\"dataframe\">\n",
       "  <thead>\n",
       "    <tr style=\"text-align: right;\">\n",
       "      <th></th>\n",
       "      <th>Borough_Bronx</th>\n",
       "      <th>Borough_Brooklyn</th>\n",
       "      <th>Borough_Manhattan</th>\n",
       "      <th>Borough_Queens</th>\n",
       "      <th>Borough_Staten Island</th>\n",
       "      <th>Largest Property Use Type_Hotel</th>\n",
       "      <th>Largest Property Use Type_Multifamily Housing</th>\n",
       "      <th>Largest Property Use Type_Non-Refrigerated Warehouse</th>\n",
       "      <th>Largest Property Use Type_Office</th>\n",
       "    </tr>\n",
       "  </thead>\n",
       "  <tbody>\n",
       "    <tr>\n",
       "      <th>12</th>\n",
       "      <td>0</td>\n",
       "      <td>0</td>\n",
       "      <td>0</td>\n",
       "      <td>0</td>\n",
       "      <td>0</td>\n",
       "      <td>0</td>\n",
       "      <td>1</td>\n",
       "      <td>0</td>\n",
       "      <td>0</td>\n",
       "    </tr>\n",
       "    <tr>\n",
       "      <th>18</th>\n",
       "      <td>0</td>\n",
       "      <td>0</td>\n",
       "      <td>0</td>\n",
       "      <td>0</td>\n",
       "      <td>0</td>\n",
       "      <td>0</td>\n",
       "      <td>1</td>\n",
       "      <td>0</td>\n",
       "      <td>0</td>\n",
       "    </tr>\n",
       "    <tr>\n",
       "      <th>19</th>\n",
       "      <td>0</td>\n",
       "      <td>0</td>\n",
       "      <td>1</td>\n",
       "      <td>0</td>\n",
       "      <td>0</td>\n",
       "      <td>0</td>\n",
       "      <td>1</td>\n",
       "      <td>0</td>\n",
       "      <td>0</td>\n",
       "    </tr>\n",
       "    <tr>\n",
       "      <th>20</th>\n",
       "      <td>0</td>\n",
       "      <td>0</td>\n",
       "      <td>1</td>\n",
       "      <td>0</td>\n",
       "      <td>0</td>\n",
       "      <td>0</td>\n",
       "      <td>1</td>\n",
       "      <td>0</td>\n",
       "      <td>0</td>\n",
       "    </tr>\n",
       "    <tr>\n",
       "      <th>21</th>\n",
       "      <td>0</td>\n",
       "      <td>0</td>\n",
       "      <td>0</td>\n",
       "      <td>0</td>\n",
       "      <td>0</td>\n",
       "      <td>0</td>\n",
       "      <td>1</td>\n",
       "      <td>0</td>\n",
       "      <td>0</td>\n",
       "    </tr>\n",
       "  </tbody>\n",
       "</table>\n",
       "</div>"
      ],
      "text/plain": [
       "    Borough_Bronx  Borough_Brooklyn  Borough_Manhattan  Borough_Queens  \\\n",
       "12              0                 0                  0               0   \n",
       "18              0                 0                  0               0   \n",
       "19              0                 0                  1               0   \n",
       "20              0                 0                  1               0   \n",
       "21              0                 0                  0               0   \n",
       "\n",
       "    Borough_Staten Island  Largest Property Use Type_Hotel  \\\n",
       "12                      0                                0   \n",
       "18                      0                                0   \n",
       "19                      0                                0   \n",
       "20                      0                                0   \n",
       "21                      0                                0   \n",
       "\n",
       "    Largest Property Use Type_Multifamily Housing  \\\n",
       "12                                              1   \n",
       "18                                              1   \n",
       "19                                              1   \n",
       "20                                              1   \n",
       "21                                              1   \n",
       "\n",
       "    Largest Property Use Type_Non-Refrigerated Warehouse  \\\n",
       "12                                                  0      \n",
       "18                                                  0      \n",
       "19                                                  0      \n",
       "20                                                  0      \n",
       "21                                                  0      \n",
       "\n",
       "    Largest Property Use Type_Office  \n",
       "12                                 0  \n",
       "18                                 0  \n",
       "19                                 0  \n",
       "20                                 0  \n",
       "21                                 0  "
      ]
     },
     "execution_count": 34,
     "metadata": {},
     "output_type": "execute_result"
    }
   ],
   "source": [
    "df_categoric = pd.get_dummies(df_categoric)  # One-hot encoding\n",
    "df_categoric.head()"
   ]
  },
  {
   "cell_type": "code",
   "execution_count": 35,
   "metadata": {},
   "outputs": [],
   "source": [
    "# Join the two DataFrames using concat\n",
    "df_transformed = pd.concat([df_numeric, df_categoric], axis=1)\n",
    "\n",
    "# Drop buildings without an Energy Star Score\n",
    "df_transformed.dropna(subset=['Score'], inplace=True)"
   ]
  },
  {
   "cell_type": "code",
   "execution_count": 36,
   "metadata": {},
   "outputs": [
    {
     "data": {
      "text/plain": [
       "(8979, 94)"
      ]
     },
     "execution_count": 36,
     "metadata": {},
     "output_type": "execute_result"
    }
   ],
   "source": [
    "df_transformed.shape"
   ]
  },
  {
   "cell_type": "code",
   "execution_count": 37,
   "metadata": {},
   "outputs": [],
   "source": [
    "\"\"\"\n",
    "Remove Collinear Features\n",
    "\"\"\"\n",
    "\n",
    "df_plot = df[['Weather Normalized Site EUI (kBtu/ft²)', \n",
    "              'Site EUI (kBtu/ft²)']].dropna()\n",
    "\n",
    "plt.plot(df_plot['Site EUI (kBtu/ft²)'], \n",
    "         df_plot['Weather Normalized Site EUI (kBtu/ft²)'], \n",
    "         'bo')\n",
    "plt.xlabel('Site EUI')\n",
    "plt.ylabel('Weather Norm EUI')\n",
    "plt.title('Weather Norm EUI vs Site EUI, R = %0.4f' % \n",
    "          np.corrcoef(df[['Weather Normalized Site EUI (kBtu/ft²)',\n",
    "                          'Site EUI (kBtu/ft²)']].dropna(), rowvar=False)[0][1]);"
   ]
  },
  {
   "cell_type": "code",
   "execution_count": 38,
   "metadata": {},
   "outputs": [],
   "source": [
    "def remove_collinear_features(x, threshold):\n",
    "    '''\n",
    "    Objective:\n",
    "        Remove collinear features in a dataframe with a correlation coefficient\n",
    "        greater than the threshold. Removing collinear features can help a model\n",
    "        to generalize and improves the interpretability of the model.\n",
    "        \n",
    "    Inputs: \n",
    "        threshold: any features with correlations greater than this value are removed\n",
    "    \n",
    "    Output: \n",
    "        dataframe that contains only the non-highly-collinear features\n",
    "    '''\n",
    "    \n",
    "    # Dont want to remove correlations between Energy Star Score\n",
    "    y = x['Score']\n",
    "    x = x.drop(columns = ['Score'])\n",
    "    \n",
    "    # Calculate the correlation matrix\n",
    "    corr_matrix = x.corr()\n",
    "    iters = range(len(corr_matrix.columns) - 1)\n",
    "    drop_cols = []\n",
    "\n",
    "    # Iterate through the correlation matrix and compare correlations\n",
    "    for i in iters:\n",
    "        for j in range(i):\n",
    "            item = corr_matrix.iloc[j:(j+1), (i+1):(i+2)]\n",
    "            col = item.columns\n",
    "            row = item.index\n",
    "            val = abs(item.values)\n",
    "            \n",
    "            # If correlation exceeds the threshold\n",
    "            if val >= threshold:\n",
    "                # Print the correlated features and the correlation value\n",
    "                # print(col.values[0], \"|\", row.values[0], \"|\", round(val[0][0], 2))\n",
    "                drop_cols.append(col.values[0])\n",
    "\n",
    "    # Drop one of each pair of correlated columns\n",
    "    drops = set(drop_cols)\n",
    "    x = x.drop(columns = drops)\n",
    "    x = x.drop(columns = ['Weather Normalized Site EUI (kBtu/ft²)', \n",
    "                          'Water Use (All Water Sources) (kgal)',\n",
    "                          'log_Water Use (All Water Sources) (kgal)',\n",
    "                          'Largest Property Use Type - Gross Floor Area (ft²)'])\n",
    "    \n",
    "    # Add the score back in to the data\n",
    "    x['Score'] = y\n",
    "               \n",
    "    return x"
   ]
  },
  {
   "cell_type": "code",
   "execution_count": 39,
   "metadata": {},
   "outputs": [],
   "source": [
    "# Remove the collinear features above a specified correlation coefficient\n",
    "collinear_threshold = 0.6\n",
    "features = remove_collinear_features(df_transformed, collinear_threshold)"
   ]
  },
  {
   "cell_type": "code",
   "execution_count": 40,
   "metadata": {},
   "outputs": [
    {
     "data": {
      "text/plain": [
       "(8979, 22)"
      ]
     },
     "execution_count": 40,
     "metadata": {},
     "output_type": "execute_result"
    }
   ],
   "source": [
    "# Remove any columns with all na values\n",
    "features.dropna(axis=1, how = 'all', inplace=True)\n",
    "features.shape"
   ]
  },
  {
   "cell_type": "code",
   "execution_count": 41,
   "metadata": {},
   "outputs": [
    {
     "name": "stdout",
     "output_type": "stream",
     "text": [
      "<class 'pandas.core.frame.DataFrame'>\n",
      "Int64Index: 8979 entries, 12 to 11745\n",
      "Data columns (total 22 columns):\n",
      " #   Column                                                      Non-Null Count  Dtype  \n",
      "---  ------                                                      --------------  -----  \n",
      " 0   Order                                                       8979 non-null   int64  \n",
      " 1   Property Id                                                 8979 non-null   int64  \n",
      " 2   DOF Gross Floor Area                                        8942 non-null   float64\n",
      " 3   Year Built                                                  8979 non-null   int64  \n",
      " 4   Number of Buildings - Self-reported                         8979 non-null   int64  \n",
      " 5   Occupancy                                                   8979 non-null   int64  \n",
      " 6   Site EUI (kBtu/ft²)                                         8979 non-null   float64\n",
      " 7   Weather Normalized Site Electricity Intensity (kWh/ft²)     8542 non-null   float64\n",
      " 8   Weather Normalized Site Natural Gas Intensity (therms/ft²)  7660 non-null   float64\n",
      " 9   Natural Gas Use (kBtu)                                      8036 non-null   float64\n",
      " 10  Weather Normalized Site Natural Gas Use (therms)            7660 non-null   float64\n",
      " 11  Water Intensity (All Water Sources) (gal/ft²)               6114 non-null   float64\n",
      " 12  Latitude                                                    7301 non-null   float64\n",
      " 13  Longitude                                                   7301 non-null   float64\n",
      " 14  Community Board                                             7301 non-null   float64\n",
      " 15  Census Tract                                                7301 non-null   float64\n",
      " 16  log_Direct GHG Emissions (Metric Tons CO2e)                 8966 non-null   float64\n",
      " 17  Borough_Staten Island                                       8979 non-null   uint8  \n",
      " 18  Largest Property Use Type_Hotel                             8979 non-null   uint8  \n",
      " 19  Largest Property Use Type_Multifamily Housing               8979 non-null   uint8  \n",
      " 20  Largest Property Use Type_Non-Refrigerated Warehouse        8979 non-null   uint8  \n",
      " 21  Score                                                       8979 non-null   float64\n",
      "dtypes: float64(13), int64(5), uint8(4)\n",
      "memory usage: 1.3 MB\n"
     ]
    }
   ],
   "source": [
    "\n",
    "features.info()"
   ]
  },
  {
   "cell_type": "code",
   "execution_count": 42,
   "metadata": {},
   "outputs": [
    {
     "name": "stdout",
     "output_type": "stream",
     "text": [
      "(6285, 21)\n",
      "(2694, 21)\n",
      "(6285, 1)\n",
      "(2694, 1)\n"
     ]
    }
   ],
   "source": [
    "\"\"\"\n",
    "Split Into Training and Testing Sets\n",
    "\"\"\"\n",
    "\n",
    "# Splitting data into training and testing\n",
    "from sklearn.model_selection import train_test_split\n",
    "\n",
    "# Separate out the features and targets\n",
    "targets = pd.DataFrame(features['Score']) # y: vector\n",
    "features = features.drop(columns='Score') # X: matrix\n",
    "\n",
    "# Replace the inf and -inf with nan (required for later imputation)\n",
    "features = features.replace({np.inf: np.nan, -np.inf: np.nan})\n",
    "\n",
    "# Handle the missing values with imputations\n",
    "features.interpolate(inplace=True)\n",
    "features.bfill(inplace=True)\n",
    "\n",
    "# Split into 70% training and 30% testing set\n",
    "X_train, X_test, y_train, y_test = train_test_split(\n",
    "    features, targets, test_size = 0.3, random_state = 42)\n",
    "\n",
    "print(X_train.shape)\n",
    "print(X_test.shape)\n",
    "print(y_train.shape) # 학습 시 정답지\n",
    "print(y_test.shape) # 테스트 시 정답"
   ]
  },
  {
   "cell_type": "code",
   "execution_count": 43,
   "metadata": {},
   "outputs": [
    {
     "name": "stderr",
     "output_type": "stream",
     "text": [
      "<ipython-input-43-48ed0e0a62e1>:6: DataConversionWarning: A column-vector y was passed when a 1d array was expected. Please change the shape of y to (n_samples,), for example using ravel().\n",
      "  model.fit(X_train, y_train)\n"
     ]
    },
    {
     "data": {
      "text/plain": [
       "RandomForestRegressor()"
      ]
     },
     "execution_count": 43,
     "metadata": {},
     "output_type": "execute_result"
    }
   ],
   "source": [
    "# Train the model\n",
    "\n",
    "from sklearn.ensemble import RandomForestRegressor\n",
    "\n",
    "model = RandomForestRegressor()\n",
    "model.fit(X_train, y_train)\n"
   ]
  },
  {
   "cell_type": "code",
   "execution_count": 44,
   "metadata": {},
   "outputs": [
    {
     "name": "stdout",
     "output_type": "stream",
     "text": [
      "[82. 23. 44. ... 78. 87. 78.] [74.02 31.13 45.83 ... 53.31 82.6  73.51]\n"
     ]
    }
   ],
   "source": [
    "y_hat = model.predict(X_test) \n",
    "print(y_test.values.reshape(-1), y_hat)"
   ]
  },
  {
   "cell_type": "code",
   "execution_count": 45,
   "metadata": {},
   "outputs": [],
   "source": [
    "from sklearn.metrics import mean_absolute_error\n",
    "\n",
    "mae = mean_absolute_error(y_test, y_hat)"
   ]
  },
  {
   "cell_type": "code",
   "execution_count": 46,
   "metadata": {},
   "outputs": [
    {
     "name": "stdout",
     "output_type": "stream",
     "text": [
      "Baseline Performance on the test set: MAE = 9.2787\n"
     ]
    }
   ],
   "source": [
    "print(\"Baseline Performance on the test set: MAE = %0.4f\" % mae)"
   ]
  },
  {
   "cell_type": "code",
   "execution_count": 47,
   "metadata": {},
   "outputs": [
    {
     "data": {
      "text/plain": [
       "<matplotlib.legend.Legend at 0x1a3d5b59040>"
      ]
     },
     "execution_count": 47,
     "metadata": {},
     "output_type": "execute_result"
    }
   ],
   "source": [
    "plt.plot(y_test.values.reshape(-1), label='Actual')\n",
    "plt.plot(y_hat, label='Prediction')\n",
    "plt.legend(loc='best')"
   ]
  },
  {
   "cell_type": "code",
   "execution_count": 48,
   "metadata": {},
   "outputs": [
    {
     "data": {
      "text/plain": [
       "Text(0, 0.5, 'Prediction')"
      ]
     },
     "execution_count": 48,
     "metadata": {},
     "output_type": "execute_result"
    }
   ],
   "source": [
    "plt.plot(y_test.values.reshape(-1), y_hat, 'bo')\n",
    "plt.xlabel(\"Actual\")\n",
    "plt.ylabel(\"Prediction\")"
   ]
  },
  {
   "cell_type": "code",
   "execution_count": null,
   "metadata": {},
   "outputs": [],
   "source": [
    "import numpy as np\n",
    "import matplotlib.pyplot as plt\n",
    "from sklearn.naive_bayes import GaussianNB\n",
    "from sklearn.svm import SVC\n",
    "from sklearn.datasets import load_digits\n",
    "from sklearn.model_selection import learning_curve\n",
    "from sklearn.model_selection import ShuffleSplit\n",
    "\n",
    "\n",
    "def plot_learning_curve(\n",
    "    estimator,\n",
    "    title,\n",
    "    X,\n",
    "    y,\n",
    "    axes=None,\n",
    "    ylim=None,\n",
    "    cv=None,\n",
    "    n_jobs=None,\n",
    "    train_sizes=np.linspace(0.1, 1.0, 5),\n",
    "):\n",
    "    \"\"\"\n",
    "    Generate 3 plots: the test and training learning curve, the training\n",
    "    samples vs fit times curve, the fit times vs score curve.\n",
    "\n",
    "    Parameters\n",
    "    ----------\n",
    "    estimator : estimator instance\n",
    "        An estimator instance implementing `fit` and `predict` methods which\n",
    "        will be cloned for each validation.\n",
    "\n",
    "    title : str\n",
    "        Title for the chart.\n",
    "\n",
    "    X : array-like of shape (n_samples, n_features)\n",
    "        Training vector, where ``n_samples`` is the number of samples and\n",
    "        ``n_features`` is the number of features.\n",
    "\n",
    "    y : array-like of shape (n_samples) or (n_samples, n_features)\n",
    "        Target relative to ``X`` for classification or regression;\n",
    "        None for unsupervised learning.\n",
    "\n",
    "    axes : array-like of shape (3,), default=None\n",
    "        Axes to use for plotting the curves.\n",
    "\n",
    "    ylim : tuple of shape (2,), default=None\n",
    "        Defines minimum and maximum y-values plotted, e.g. (ymin, ymax).\n",
    "\n",
    "    cv : int, cross-validation generator or an iterable, default=None\n",
    "        Determines the cross-validation splitting strategy.\n",
    "        Possible inputs for cv are:\n",
    "\n",
    "          - None, to use the default 5-fold cross-validation,\n",
    "          - integer, to specify the number of folds.\n",
    "          - :term:`CV splitter`,\n",
    "          - An iterable yielding (train, test) splits as arrays of indices.\n",
    "\n",
    "        For integer/None inputs, if ``y`` is binary or multiclass,\n",
    "        :class:`StratifiedKFold` used. If the estimator is not a classifier\n",
    "        or if ``y`` is neither binary nor multiclass, :class:`KFold` is used.\n",
    "\n",
    "        Refer :ref:`User Guide <cross_validation>` for the various\n",
    "        cross-validators that can be used here.\n",
    "\n",
    "    n_jobs : int or None, default=None\n",
    "        Number of jobs to run in parallel.\n",
    "        ``None`` means 1 unless in a :obj:`joblib.parallel_backend` context.\n",
    "        ``-1`` means using all processors. See :term:`Glossary <n_jobs>`\n",
    "        for more details.\n",
    "\n",
    "    train_sizes : array-like of shape (n_ticks,)\n",
    "        Relative or absolute numbers of training examples that will be used to\n",
    "        generate the learning curve. If the ``dtype`` is float, it is regarded\n",
    "        as a fraction of the maximum size of the training set (that is\n",
    "        determined by the selected validation method), i.e. it has to be within\n",
    "        (0, 1]. Otherwise it is interpreted as absolute sizes of the training\n",
    "        sets. Note that for classification the number of samples usually have\n",
    "        to be big enough to contain at least one sample from each class.\n",
    "        (default: np.linspace(0.1, 1.0, 5))\n",
    "    \"\"\"\n",
    "    if axes is None:\n",
    "        _, axes = plt.subplots(1, 3, figsize=(20, 5))\n",
    "\n",
    "    axes[0].set_title(title)\n",
    "    if ylim is not None:\n",
    "        axes[0].set_ylim(*ylim)\n",
    "    axes[0].set_xlabel(\"Training examples\")\n",
    "    axes[0].set_ylabel(\"Score\")\n",
    "\n",
    "    train_sizes, train_scores, test_scores, fit_times, _ = learning_curve(\n",
    "        estimator,\n",
    "        X,\n",
    "        y,\n",
    "        cv=cv,\n",
    "        n_jobs=n_jobs,\n",
    "        train_sizes=train_sizes,\n",
    "        return_times=True,\n",
    "    )\n",
    "    train_scores_mean = np.mean(train_scores, axis=1)\n",
    "    train_scores_std = np.std(train_scores, axis=1)\n",
    "    test_scores_mean = np.mean(test_scores, axis=1)\n",
    "    test_scores_std = np.std(test_scores, axis=1)\n",
    "    fit_times_mean = np.mean(fit_times, axis=1)\n",
    "    fit_times_std = np.std(fit_times, axis=1)\n",
    "\n",
    "    # Plot learning curve\n",
    "    axes[0].grid()\n",
    "    axes[0].fill_between(\n",
    "        train_sizes,\n",
    "        train_scores_mean - train_scores_std,\n",
    "        train_scores_mean + train_scores_std,\n",
    "        alpha=0.1,\n",
    "        color=\"r\",\n",
    "    )\n",
    "    axes[0].fill_between(\n",
    "        train_sizes,\n",
    "        test_scores_mean - test_scores_std,\n",
    "        test_scores_mean + test_scores_std,\n",
    "        alpha=0.1,\n",
    "        color=\"g\",\n",
    "    )\n",
    "    axes[0].plot(\n",
    "        train_sizes, train_scores_mean, \"o-\", color=\"r\", label=\"Training score\"\n",
    "    )\n",
    "    axes[0].plot(\n",
    "        train_sizes, test_scores_mean, \"o-\", color=\"g\", label=\"Cross-validation score\"\n",
    "    )\n",
    "    axes[0].legend(loc=\"best\")\n",
    "\n",
    "    # Plot n_samples vs fit_times\n",
    "    axes[1].grid()\n",
    "    axes[1].plot(train_sizes, fit_times_mean, \"o-\")\n",
    "    axes[1].fill_between(\n",
    "        train_sizes,\n",
    "        fit_times_mean - fit_times_std,\n",
    "        fit_times_mean + fit_times_std,\n",
    "        alpha=0.1,\n",
    "    )\n",
    "    axes[1].set_xlabel(\"Training examples\")\n",
    "    axes[1].set_ylabel(\"fit_times\")\n",
    "    axes[1].set_title(\"Scalability of the model\")\n",
    "\n",
    "    # Plot fit_time vs score\n",
    "    axes[2].grid()\n",
    "    axes[2].plot(fit_times_mean, test_scores_mean, \"o-\")\n",
    "    axes[2].fill_between(\n",
    "        fit_times_mean,\n",
    "        test_scores_mean - test_scores_std,\n",
    "        test_scores_mean + test_scores_std,\n",
    "        alpha=0.1,\n",
    "    )\n",
    "    axes[2].set_xlabel(\"fit_times\")\n",
    "    axes[2].set_ylabel(\"Score\")\n",
    "    axes[2].set_title(\"Performance of the model\")\n",
    "\n",
    "    return plt\n",
    "\n",
    "\n"
   ]
  },
  {
   "cell_type": "code",
   "execution_count": null,
   "metadata": {},
   "outputs": [],
   "source": [
    "from sklearn import linear_model\n",
    "esimator = linear_model.Lasso(alpha=0.1)\n",
    "\n",
    "fig, axes = plt.subplots(3, 1, figsize=(10, 15))\n",
    "\n",
    "# X, y = load_digits(return_X_y=True)\n",
    "\n",
    "title = \"Learning Curves (Random Forest Regressor)\"\n",
    "# Cross validation with 100 iterations to get smoother mean test and train\n",
    "# score curves, each time with 20% data randomly selected as a validation set.\n",
    "cv = ShuffleSplit(n_splits=100, test_size=0.2, random_state=0)\n",
    "\n",
    "# estimator = RandomForestRegressor()\n",
    "\n",
    "plot_learning_curve(\n",
    "    estimator, title, X_train, y_train, axes=axes[:], ylim=(0.7, 1.01), cv=cv, n_jobs=4\n",
    ")\n",
    "\n"
   ]
  },
  {
   "cell_type": "code",
   "execution_count": null,
   "metadata": {},
   "outputs": [],
   "source": [
    "title = r\"Learning Curves (SVM, RBF kernel, $\\gamma=0.001$)\"\n",
    "# SVC is more expensive so we do a lower number of CV iterations:\n",
    "cv = ShuffleSplit(n_splits=10, test_size=0.2, random_state=0)\n",
    "estimator = SVC(gamma=0.001)\n",
    "plot_learning_curve(\n",
    "    estimator, title, X_train, y_train, axes=axes[:, 1], ylim=(0.7, 1.01), cv=cv, n_jobs=4\n",
    ")\n",
    "\n",
    "plt.show()"
   ]
  },
  {
   "cell_type": "code",
   "execution_count": null,
   "metadata": {},
   "outputs": [],
   "source": [
    "X = X_train.values\n",
    "y = y_train.values"
   ]
  },
  {
   "cell_type": "code",
   "execution_count": null,
   "metadata": {},
   "outputs": [],
   "source": [
    "\"\"\"\n",
    "Benchmark\n",
    "\"\"\"\n",
    "\n",
    "df_transformed.drop(columns=['sqrt_Longitude', 'log_Longitude', 'Score'], inplace=True)\n",
    "\n",
    "# Replace the inf and -inf with nan (required for later imputation)\n",
    "df_transformed.replace({np.inf: np.nan, -np.inf: np.nan}, inplace=True)\n",
    "\n",
    "df_transformed.interpolate(inplace=True)\n",
    "df_transformed.bfill(inplace=True)\n",
    "df_transformed.ffill(inplace=True)\n",
    "\n",
    "X_train, X_test, y_train, y_test = train_test_split(\n",
    "    df_transformed, targets, test_size = 0.3, random_state = 42)\n",
    "\n",
    "print(X_train.shape)\n",
    "print(X_test.shape)\n",
    "print(y_train.shape)\n",
    "print(y_test.shape)"
   ]
  },
  {
   "cell_type": "code",
   "execution_count": null,
   "metadata": {},
   "outputs": [],
   "source": [
    "model = RandomForestRegressor()\n",
    "model.fit(X_train, y_train)\n"
   ]
  },
  {
   "cell_type": "code",
   "execution_count": null,
   "metadata": {},
   "outputs": [],
   "source": [
    "y_hat_two = model.predict(X_test)\n",
    "y_hat_two"
   ]
  },
  {
   "cell_type": "code",
   "execution_count": null,
   "metadata": {},
   "outputs": [],
   "source": [
    "mae = mean_absolute_error(y_test, y_hat_two)\n",
    "print(\"Baseline Performance on the test set: MAE = %0.4f\" % mae)"
   ]
  },
  {
   "cell_type": "code",
   "execution_count": null,
   "metadata": {},
   "outputs": [],
   "source": [
    "plt.plot(y_test.values.reshape(-1), label='Actual')\n",
    "plt.plot(y_hat_two, label='Prediction')\n",
    "plt.legend(loc='best')"
   ]
  },
  {
   "cell_type": "code",
   "execution_count": null,
   "metadata": {},
   "outputs": [],
   "source": [
    "plt.plot(y_test.values.reshape(-1), y_hat_two, 'bo')\n",
    "plt.xlabel(\"Actual\")\n",
    "plt.ylabel(\"Prediction\")"
   ]
  }
 ],
 "metadata": {
  "kernelspec": {
   "display_name": "Python 3",
   "language": "python",
   "name": "python3"
  },
  "language_info": {
   "codemirror_mode": {
    "name": "ipython",
    "version": 3
   },
   "file_extension": ".py",
   "mimetype": "text/x-python",
   "name": "python",
   "nbconvert_exporter": "python",
   "pygments_lexer": "ipython3",
   "version": "3.8.3"
  }
 },
 "nbformat": 4,
 "nbformat_minor": 4
}
