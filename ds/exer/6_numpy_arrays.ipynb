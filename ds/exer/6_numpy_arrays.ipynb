{
 "cells": [
  {
   "cell_type": "code",
   "execution_count": 2,
   "id": "b3133457-e0b7-4902-9284-d8d6377de550",
   "metadata": {},
   "outputs": [],
   "source": [
    "import numpy as np\n",
    "import pandas as pd\n",
    "from matplotlib import pyplot as plt"
   ]
  },
  {
   "cell_type": "code",
   "execution_count": 4,
   "id": "c67b8784-c252-4092-aeba-9e2cee03bdf3",
   "metadata": {},
   "outputs": [
    {
     "name": "stdout",
     "output_type": "stream",
     "text": [
      "<class 'numpy.ndarray'>\n"
     ]
    }
   ],
   "source": [
    "#Creating a Numpy Araay\n",
    "\n",
    "lst = [1,2,3,4]\n",
    "\n",
    "arr=np.array(lst)\n",
    "print(type(arr))"
   ]
  },
  {
   "cell_type": "code",
   "execution_count": 8,
   "id": "e51c9331-c5bc-48d9-b1f2-db8a39fc5500",
   "metadata": {},
   "outputs": [
    {
     "name": "stdout",
     "output_type": "stream",
     "text": [
      "float64\n"
     ]
    }
   ],
   "source": [
    "#.dtype attribute\n",
    "\n",
    "\n",
    "\n",
    "a=np.array([1.1,2.2,3.3])\n",
    "print(a.dtype)"
   ]
  },
  {
   "cell_type": "code",
   "execution_count": 13,
   "id": "5df9f4b9-19e2-437a-822d-c6582de22efc",
   "metadata": {},
   "outputs": [
    {
     "name": "stdout",
     "output_type": "stream",
     "text": [
      "144\n",
      "148\n"
     ]
    }
   ],
   "source": [
    "\"\"\"\n",
    "Size Comparison of ndarray and list objects\n",
    "\"\"\"\n",
    "\n",
    "from sys import getsizeof\n",
    "\n",
    "lst=[1,2,3,5,6,7,8,9,10,11,22]\n",
    "print(getsizeof(lst))\n",
    "\n",
    "arr=np.array([1,2,3,6,5,7,8,9,10,11,22])\n",
    "print(getsizeof(arr))"
   ]
  },
  {
   "cell_type": "code",
   "execution_count": 19,
   "id": "06ca4071-8df9-4be3-a7d0-c72fc9b45168",
   "metadata": {},
   "outputs": [
    {
     "name": "stdout",
     "output_type": "stream",
     "text": [
      "[25, 20, 35, 15, 15]\n",
      "[25 20 35 15 15]\n"
     ]
    }
   ],
   "source": [
    "\"\"\"\n",
    "Operations with Numpy Arrays\n",
    "\"\"\"\n",
    "\n",
    "prices=[30,25,40,20,20]\n",
    "price_arr=np.array(prices)\n",
    "\n",
    "new_prices=[price-5 for price in prices]\n",
    "print(new_prices)\n",
    "\n",
    "#with a ndarray\n",
    "price_arr -= 5\n",
    "print(price_arr)\n",
    "\n",
    "\n",
    "\n"
   ]
  },
  {
   "cell_type": "code",
   "execution_count": 34,
   "id": "48d3442b-4d6e-4165-9211-2bc6fa0db2f4",
   "metadata": {},
   "outputs": [
    {
     "name": "stdout",
     "output_type": "stream",
     "text": [
      "[89 87 74 92 94]\n",
      "[260 281 248 276 272]\n",
      "[86.66666667 93.66666667 82.66666667 92.         90.66666667]\n",
      "[[ 92  94  88  91  87]\n",
      " [ 79 100  86  93  91]\n",
      " [ 89  87  74  92  94]]\n",
      "93\n",
      "[94 88]\n",
      "[87 91 94]\n"
     ]
    }
   ],
   "source": [
    "test_1=np.array([92,94,88,91,87])\n",
    "test_2=np.array([79,100,86,93,91])\n",
    "test_3=np.array([87,85,72,90,92])\n",
    "\n",
    "test_3_fixed= test_3+2\n",
    "print(test_3_fixed)\n",
    "\n",
    "total_grade=test_1+test_2+test_3_fixed\n",
    "print(total_grade)\n",
    "\n",
    "final_grade=total_grade/3\n",
    "print(final_grade)\n",
    "\n",
    "student_scores=np.array([test_1,test_2,test_3_fixed])\n",
    "print(student_scores)\n",
    "\n",
    "jeremy_test_2=student_scores[1,3]\n",
    "print(jeremy_test_2)\n",
    "\n",
    "manual_adwoa_test_1=np.array([student_scores[0,1], student_scores[0,2]])\n",
    "print(manual_adwoa_test_1)\n",
    "\n",
    "print(student_scores[:,-1])"
   ]
  },
  {
   "cell_type": "code",
   "execution_count": 40,
   "id": "87f1b49b-c141-4e7c-9c87-6957b3bae1a9",
   "metadata": {
    "tags": []
   },
   "outputs": [
    {
     "name": "stdout",
     "output_type": "stream",
     "text": [
      "[ True False False False False False  True  True  True]\n",
      "[10  9  8  8]\n",
      "[10  2  2  3  9  8  8]\n",
      "[4 5]\n"
     ]
    }
   ],
   "source": [
    "\"\"\"\n",
    "Logical Operations with Arrays\n",
    "\"\"\"\n",
    "\n",
    "#masking\n",
    "a=np.array([10,2,2,4,5,3,9,8,8])\n",
    "mask=a>5\n",
    "print(mask)\n",
    "\n",
    "#select using Logical opreations\n",
    "selected = a[a>5]\n",
    "print(selected)\n",
    "\n",
    "#combined Logical opreations\n",
    "\n",
    "selected=a[(a>5) | (a<4)]\n",
    "print(selected)\n",
    "\n",
    "selected=a[(a>3) & (a<8)]\n",
    "print(selected)"
   ]
  },
  {
   "cell_type": "code",
   "execution_count": 41,
   "id": "9cfe6d0e-4c33-4efe-9928-1a315c0c0f19",
   "metadata": {
    "tags": []
   },
   "outputs": [],
   "source": [
    "porridge=np.array([79,65,50,63,56,90,85,98,79,51])\n",
    "\n",
    "cold=porridge"
   ]
  },
  {
   "cell_type": "code",
   "execution_count": null,
   "id": "e9a85ff7-e04c-4151-af74-d25f9c299efd",
   "metadata": {},
   "outputs": [],
   "source": []
  }
 ],
 "metadata": {
  "kernelspec": {
   "display_name": "Python 3",
   "language": "python",
   "name": "python3"
  },
  "language_info": {
   "codemirror_mode": {
    "name": "ipython",
    "version": 3
   },
   "file_extension": ".py",
   "mimetype": "text/x-python",
   "name": "python",
   "nbconvert_exporter": "python",
   "pygments_lexer": "ipython3",
   "version": "3.8.8"
  }
 },
 "nbformat": 4,
 "nbformat_minor": 5
}
