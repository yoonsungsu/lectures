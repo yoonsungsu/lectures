{
 "cells": [
  {
   "cell_type": "code",
   "execution_count": 1,
   "id": "6c55435b-1930-4adc-87a0-3fcc5faab776",
   "metadata": {},
   "outputs": [
    {
     "name": "stdout",
     "output_type": "stream",
     "text": [
      "2021-10-27 00:00:00\n"
     ]
    }
   ],
   "source": [
    "\"\"\"\n",
    "Native Python dates and times\n",
    "\"\"\"\n",
    "\n",
    "# Build a date using the datetime type\n",
    "\n",
    "from datetime import datetime\n",
    "\n",
    "t = datetime(year=2021, month=10, day=27)\n",
    "print(t)\n"
   ]
  },
  {
   "cell_type": "code",
   "execution_count": 2,
   "id": "f0e69ed4-0faa-43e2-87f0-57a5eb0405fa",
   "metadata": {},
   "outputs": [
    {
     "name": "stdout",
     "output_type": "stream",
     "text": [
      "2021-10-27 00:00:00\n"
     ]
    },
    {
     "data": {
      "text/plain": [
       "'Wednesday'"
      ]
     },
     "execution_count": 2,
     "metadata": {},
     "output_type": "execute_result"
    }
   ],
   "source": [
    "# Parse a date from a string\n",
    "\n",
    "from dateutil import parser\n",
    "\n",
    "date = parser.parse(\"27th of October, 2021\")\n",
    "print(date)\n",
    "\n",
    "\n",
    "# Print the day of the week\n",
    "\n",
    "date.strftime('%A')\n"
   ]
  },
  {
   "cell_type": "code",
   "execution_count": 3,
   "id": "11e0c68b-a69f-49f6-8787-2a8d6df73067",
   "metadata": {},
   "outputs": [
    {
     "name": "stdout",
     "output_type": "stream",
     "text": [
      "2021-10-27\n",
      "2021-10-27T09:27\n",
      "2021-10-27T09:27:10.200000000\n"
     ]
    }
   ],
   "source": [
    "\n",
    "\"\"\"\n",
    "Types Arrays of Times: NumPy’s datetime64\n",
    "\"\"\"\n",
    "\n",
    "# Create datetime64 using array()\n",
    "\n",
    "import numpy as np\n",
    "date = np.array('2021-10-27', dtype=np.datetime64)\n",
    "\n",
    "print(date)\n",
    "\n",
    "# Use datetune64()\n",
    "date = np.datetime64('2021-10-27')\n",
    "\n",
    "\n",
    "# We can quickly do vectorized operations on datetime64\n",
    "\n",
    "date + np.arange(7)\n",
    "\n",
    "\n",
    "# Minite-based datetime\n",
    "\n",
    "t = np.datetime64('2021-10-27 09:27')\n",
    "print(t)\n",
    "\n",
    "\n",
    "# Nanosecond-based datetime\n",
    "\n",
    "t = np.datetime64('2021-10-27 09:27:10.20', 'ns')\n",
    "print(t)\n"
   ]
  },
  {
   "cell_type": "code",
   "execution_count": 4,
   "id": "b6e479a8-17b7-4573-818f-2176d4eeedcf",
   "metadata": {},
   "outputs": [
    {
     "name": "stdout",
     "output_type": "stream",
     "text": [
      "2021-10-27 00:00:00\n",
      "Wednesday\n"
     ]
    },
    {
     "data": {
      "text/plain": [
       "DatetimeIndex([          '2021-10-27 00:00:00',\n",
       "               '2021-10-27 00:00:00.000000001',\n",
       "               '2021-10-27 00:00:00.000000002',\n",
       "               '2021-10-27 00:00:00.000000003',\n",
       "               '2021-10-27 00:00:00.000000004',\n",
       "               '2021-10-27 00:00:00.000000005',\n",
       "               '2021-10-27 00:00:00.000000006'],\n",
       "              dtype='datetime64[ns]', freq=None)"
      ]
     },
     "execution_count": 4,
     "metadata": {},
     "output_type": "execute_result"
    }
   ],
   "source": [
    "\n",
    "\"\"\"\n",
    "Dates and Times in Pandas\n",
    "\"\"\"\n",
    "\n",
    "# Parse a string date in pandas\n",
    "\n",
    "import pandas as pd\n",
    "date = pd.to_datetime(\"27th of October, 2021\")\n",
    "print(date)\n",
    "\n",
    "\n",
    "# Output the day of the week\n",
    "\n",
    "print(date.strftime('%A'))\n",
    "\n",
    "\n",
    "# NumPy-style vectorized operations\n",
    "\n",
    "date + pd.to_timedelta(np.arange(7))\n"
   ]
  },
  {
   "cell_type": "code",
   "execution_count": 5,
   "id": "1192cee6-a9a7-43fa-809f-118710798b8d",
   "metadata": {},
   "outputs": [
    {
     "name": "stdout",
     "output_type": "stream",
     "text": [
      "DatetimeIndex(['2021-10-27', '2021-10-28', '2021-10-29', '2021-10-30',\n",
      "               '2021-10-31', '2021-11-01', '2021-11-02'],\n",
      "              dtype='datetime64[ns]', freq=None)\n",
      "2021-10-27    0\n",
      "2021-10-28    1\n",
      "2021-10-29    2\n",
      "2021-10-30    3\n",
      "2021-10-31    4\n",
      "2021-11-01    5\n",
      "2021-11-02    6\n",
      "dtype: int64\n",
      "2021-10-27    0\n",
      "2021-10-28    1\n",
      "2021-10-29    2\n",
      "2021-10-30    3\n",
      "2021-10-31    4\n",
      "dtype: int64 \n",
      "\n",
      "2021-11-01    5\n",
      "2021-11-02    6\n",
      "dtype: int64\n"
     ]
    }
   ],
   "source": [
    "\n",
    "\"\"\"\n",
    "Pandas Time Seires: Indexing by Time\n",
    "\"\"\"\n",
    "\n",
    "# Indexing by timestamps\n",
    "\n",
    "ind = pd.DatetimeIndex(['2021-10-27', '2021-10-28', '2021-10-29', '2021-10-30',\n",
    "                        '2021-10-31', '2021-11-01', '2021-11-02'])\n",
    "\n",
    "print(ind)\n",
    "\n",
    "ser = pd.Series([0, 1, 2, 3, 4, 5, 6], index=ind)\n",
    "print(ser)\n",
    "\n",
    "\n",
    "# Indexing patterns\n",
    "\n",
    "print(ser['2021-10-27':'2021-10-31'], '\\n')\n",
    "\n",
    "print(ser['2021-11'])\n",
    "\n"
   ]
  },
  {
   "cell_type": "code",
   "execution_count": 11,
   "id": "be9f2e71-71a5-4c65-8ed0-5b936de8b538",
   "metadata": {},
   "outputs": [
    {
     "name": "stdout",
     "output_type": "stream",
     "text": [
      "DatetimeIndex(['2015-07-03', '2015-07-04', '2015-07-06', '2015-07-07',\n",
      "               '2015-07-08'],\n",
      "              dtype='datetime64[ns]', freq=None)\n"
     ]
    },
    {
     "data": {
      "text/plain": [
       "PeriodIndex(['2015-07-03', '2015-07-04', '2015-07-06', '2015-07-07',\n",
       "             '2015-07-08'],\n",
       "            dtype='period[D]', freq='D')"
      ]
     },
     "execution_count": 11,
     "metadata": {},
     "output_type": "execute_result"
    }
   ],
   "source": [
    "\n",
    "\"\"\"\n",
    "Pandas Time Series Data Structures\n",
    "\"\"\"\n",
    "\n",
    "# Timestamp and DatetimeIndex\n",
    "\n",
    "dates = pd.to_datetime([datetime(2015, 7, 3),\n",
    "                      \"4th of July, 2015\",\n",
    "                      '2015-Jul-6',\n",
    "                      '07-07-2015',\n",
    "                      '20150708'])\n",
    "\n",
    "print(dates)\n",
    "\n",
    "\n",
    "\n",
    "# DatetimeIndex -> PeriodIndex with to_period()\n",
    "\n",
    "dates.to_period('D')\n",
    "\n"
   ]
  },
  {
   "cell_type": "code",
   "execution_count": 10,
   "id": "8334b3a7-e92c-4883-9c16-1d35b6424446",
   "metadata": {},
   "outputs": [
    {
     "data": {
      "text/plain": [
       "TimedeltaIndex(['0 days', '1 days', '3 days', '4 days', '5 days'], dtype='timedelta64[ns]', freq=None)"
      ]
     },
     "execution_count": 10,
     "metadata": {},
     "output_type": "execute_result"
    }
   ],
   "source": [
    "# TimedeltaIndex\n",
    "\n",
    "dates - dates[0]"
   ]
  },
  {
   "cell_type": "code",
   "execution_count": 12,
   "id": "046265ec-b965-40c7-b75e-3af5574e93f0",
   "metadata": {},
   "outputs": [
    {
     "data": {
      "text/plain": [
       "DatetimeIndex(['2021-10-27', '2021-10-28', '2021-10-29', '2021-10-30',\n",
       "               '2021-10-31'],\n",
       "              dtype='datetime64[ns]', freq='D')"
      ]
     },
     "execution_count": 12,
     "metadata": {},
     "output_type": "execute_result"
    }
   ],
   "source": [
    "\n",
    "\"\"\"\n",
    "Regular Sequences\n",
    "\"\"\"\n",
    "\n",
    "# pd.date_range(). default freq: day\n",
    "\n",
    "pd.date_range('2021-10-27', '2021-10-31')\n"
   ]
  },
  {
   "cell_type": "code",
   "execution_count": 13,
   "id": "0381c33a-67dc-452a-815c-d506acb9a715",
   "metadata": {},
   "outputs": [
    {
     "data": {
      "text/plain": [
       "DatetimeIndex(['2021-10-27', '2021-10-28', '2021-10-29', '2021-10-30',\n",
       "               '2021-10-31'],\n",
       "              dtype='datetime64[ns]', freq='D')"
      ]
     },
     "execution_count": 13,
     "metadata": {},
     "output_type": "execute_result"
    }
   ],
   "source": [
    "# Use startpoint and num. of periods\n",
    "\n",
    "pd.date_range('2021-10-27', periods=5)"
   ]
  },
  {
   "cell_type": "code",
   "execution_count": 14,
   "id": "985e53b3-8e24-4801-9f6d-c6781f7120e8",
   "metadata": {},
   "outputs": [
    {
     "data": {
      "text/plain": [
       "DatetimeIndex(['2021-10-27 00:00:00', '2021-10-27 01:00:00',\n",
       "               '2021-10-27 02:00:00', '2021-10-27 03:00:00',\n",
       "               '2021-10-27 04:00:00', '2021-10-27 05:00:00',\n",
       "               '2021-10-27 06:00:00', '2021-10-27 07:00:00',\n",
       "               '2021-10-27 08:00:00', '2021-10-27 09:00:00',\n",
       "               '2021-10-27 10:00:00', '2021-10-27 11:00:00'],\n",
       "              dtype='datetime64[ns]', freq='H')"
      ]
     },
     "execution_count": 14,
     "metadata": {},
     "output_type": "execute_result"
    }
   ],
   "source": [
    "# Change the frequency\n",
    "\n",
    "pd.date_range('2021-10-27', periods=12, freq='H')"
   ]
  },
  {
   "cell_type": "code",
   "execution_count": 15,
   "id": "8e318f2a-03c1-4cef-9ed6-0dc66c46d832",
   "metadata": {},
   "outputs": [
    {
     "data": {
      "text/plain": [
       "PeriodIndex(['2021-10', '2021-11', '2021-12', '2022-01', '2022-02', '2022-03',\n",
       "             '2022-04', '2022-05', '2022-06', '2022-07', '2022-08', '2022-09'],\n",
       "            dtype='period[M]', freq='M')"
      ]
     },
     "execution_count": 15,
     "metadata": {},
     "output_type": "execute_result"
    }
   ],
   "source": [
    "# pd.period_range()\n",
    "\n",
    "pd.period_range('2021-10', periods=12, freq='M')"
   ]
  },
  {
   "cell_type": "code",
   "execution_count": 16,
   "id": "41269281-b64e-4438-8d8d-318877014e1a",
   "metadata": {},
   "outputs": [
    {
     "data": {
      "text/plain": [
       "TimedeltaIndex(['0 days 00:00:00', '0 days 01:00:00', '0 days 02:00:00',\n",
       "                '0 days 03:00:00', '0 days 04:00:00', '0 days 05:00:00',\n",
       "                '0 days 06:00:00', '0 days 07:00:00', '0 days 08:00:00',\n",
       "                '0 days 09:00:00'],\n",
       "               dtype='timedelta64[ns]', freq='H')"
      ]
     },
     "execution_count": 16,
     "metadata": {},
     "output_type": "execute_result"
    }
   ],
   "source": [
    "# pd.timedelta_range()\n",
    "\n",
    "pd.timedelta_range(0, periods=10, freq='H')"
   ]
  },
  {
   "cell_type": "code",
   "execution_count": null,
   "id": "3018892b-4dcc-49bf-b38d-d9aca32f4eb1",
   "metadata": {},
   "outputs": [],
   "source": []
  }
 ],
 "metadata": {
  "kernelspec": {
   "display_name": "Python 3",
   "language": "python",
   "name": "python3"
  },
  "language_info": {
   "codemirror_mode": {
    "name": "ipython",
    "version": 3
   },
   "file_extension": ".py",
   "mimetype": "text/x-python",
   "name": "python",
   "nbconvert_exporter": "python",
   "pygments_lexer": "ipython3",
   "version": "3.8.8"
  }
 },
 "nbformat": 4,
 "nbformat_minor": 5
}
