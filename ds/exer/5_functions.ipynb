{
 "cells": [
  {
   "cell_type": "code",
   "execution_count": 6,
   "id": "f52dc347-80fd-48ba-852a-fe5f84b7e318",
   "metadata": {},
   "outputs": [
    {
     "name": "stdout",
     "output_type": "stream",
     "text": [
      "4\n"
     ]
    },
    {
     "data": {
      "text/plain": [
       "2"
      ]
     },
     "execution_count": 6,
     "metadata": {},
     "output_type": "execute_result"
    }
   ],
   "source": [
    "\"\"\"\n",
    "Functions vs Method\n",
    "\"\"\"\n",
    "\n",
    "def my_function(x):\n",
    "    return x+1\n",
    "\n",
    "y=3\n",
    "result = my_function(y)\n",
    "print(result)\n",
    "\n",
    "x=1\n",
    "\n",
    "class my_class:\n",
    "    def my_method(self):\n",
    "        return x+1\n",
    "    \n",
    "   \n",
    "cls=my_class()\n",
    "cls.my_method()"
   ]
  },
  {
   "cell_type": "code",
   "execution_count": 10,
   "id": "d68cc4ee-4c4e-4443-9846-1f9ecc744683",
   "metadata": {},
   "outputs": [
    {
     "name": "stdout",
     "output_type": "stream",
     "text": [
      "Hello everyone, my name is Yonn sungsu, I was born in 1997, and I live in Seoul\n"
     ]
    }
   ],
   "source": [
    "\"\"\"\n",
    "Function Parameters\n",
    "\"\"\"\n",
    "\n",
    "def introduce_myself(name, birthyear, city):\n",
    "    print(\"Hello everyone, my name is %s, I was born in %d, and I live in %s\"\n",
    "         % (name, birthyear, city))\n",
    "introduce_myself(\"Yonn sungsu\", 1997,\"Seoul\")"
   ]
  },
  {
   "cell_type": "code",
   "execution_count": 20,
   "id": "a1dea29d-a3c1-44d0-8e07-d0fe5111ae55",
   "metadata": {},
   "outputs": [
    {
     "data": {
      "text/plain": [
       "'2021 is not a leap year'"
      ]
     },
     "execution_count": 20,
     "metadata": {},
     "output_type": "execute_result"
    }
   ],
   "source": [
    "\"\"\"\n",
    "Return Keyword\n",
    "\"\"\"\n",
    "\n",
    "def check_leap_year(year):\n",
    "    if year % 4 == 0:\n",
    "        return \"%s is a leap year\" % (year)\n",
    "    else:\n",
    "        return \"%s is not a leap year\" % (year)\n",
    "    \n",
    "check_leap_year(2021)"
   ]
  },
  {
   "cell_type": "code",
   "execution_count": 22,
   "id": "5b13f7b3-fc05-4216-80b0-cacf8af972ce",
   "metadata": {},
   "outputs": [
    {
     "name": "stdout",
     "output_type": "stream",
     "text": [
      "9 16 25\n"
     ]
    }
   ],
   "source": [
    "\"\"\"\n",
    "REturning Multiple Values\n",
    "\"\"\"\n",
    "\n",
    "def square_point(x, y, z):\n",
    "    x_squared=x**2\n",
    "    y_squared=y**2\n",
    "    z_squared=z**2\n",
    "    return x_squared, y_squared,z_squared\n",
    "\n",
    "three_squared, four_squared, five_squared=square_point(3,4,5)\n",
    "print(three_squared, four_squared, five_squared)"
   ]
  },
  {
   "cell_type": "code",
   "execution_count": 24,
   "id": "f780bb5a-9e66-4d1e-9015-d83a7fe9f505",
   "metadata": {},
   "outputs": [
    {
     "name": "stdout",
     "output_type": "stream",
     "text": [
      "Hello\n"
     ]
    }
   ],
   "source": [
    "\"\"\"\n",
    "Global Variables\n",
    "\"\"\"\n",
    "\n",
    "a=\"Hello\"\n",
    "\n",
    "def prints_a():\n",
    "    print(a)\n",
    "    \n",
    "print(a)   \n",
    "prints_a()"
   ]
  },
  {
   "cell_type": "code",
   "execution_count": 28,
   "id": "68fe7588-da4d-45e7-a13d-792bc94f9e78",
   "metadata": {
    "tags": []
   },
   "outputs": [
    {
     "name": "stdout",
     "output_type": "stream",
     "text": [
      "2\n"
     ]
    },
    {
     "ename": "NameError",
     "evalue": "name 'b' is not defined",
     "output_type": "error",
     "traceback": [
      "\u001b[1;31m---------------------------------------------------------------------------\u001b[0m",
      "\u001b[1;31mNameError\u001b[0m                                 Traceback (most recent call last)",
      "\u001b[1;32m<ipython-input-28-d489e33e52ef>\u001b[0m in \u001b[0;36m<module>\u001b[1;34m\u001b[0m\n\u001b[0;32m      8\u001b[0m \u001b[1;33m\u001b[0m\u001b[0m\n\u001b[0;32m      9\u001b[0m \u001b[0mf1\u001b[0m\u001b[1;33m(\u001b[0m\u001b[1;33m)\u001b[0m\u001b[1;33m\u001b[0m\u001b[1;33m\u001b[0m\u001b[0m\n\u001b[1;32m---> 10\u001b[1;33m \u001b[0mprint\u001b[0m\u001b[1;33m(\u001b[0m\u001b[0mb\u001b[0m\u001b[1;33m)\u001b[0m\u001b[1;33m\u001b[0m\u001b[1;33m\u001b[0m\u001b[0m\n\u001b[0m",
      "\u001b[1;31mNameError\u001b[0m: name 'b' is not defined"
     ]
    }
   ],
   "source": [
    "\"\"\"\n",
    "Local Variables\n",
    "\"\"\"\n",
    "\n",
    "def f1():\n",
    "    b=2 # local var.\n",
    "    print(b)\n",
    "    \n",
    "f1()\n",
    "print(b)"
   ]
  },
  {
   "cell_type": "code",
   "execution_count": 37,
   "id": "f2a30344-2c45-4844-95e4-58645153ea80",
   "metadata": {
    "tags": []
   },
   "outputs": [
    {
     "name": "stdout",
     "output_type": "stream",
     "text": [
      "Height = 1 \n",
      "width = 2 \n",
      "depth = 3 \n",
      "6\n"
     ]
    }
   ],
   "source": [
    "\"\"\"\n",
    "Keyword Arguments and Default Values\n",
    "\"\"\"\n",
    "\n",
    "def findvolume(height, width, depth):\n",
    "    print(\"Height = %s \" % (height))\n",
    "    print(\"width = %s \" % (width))\n",
    "    print(\"depth = %s \" % (depth))\n",
    "    return height * width * depth\n",
    "\n",
    "print(findvolume(1,2,3))"
   ]
  }
 ],
 "metadata": {
  "kernelspec": {
   "display_name": "Python 3",
   "language": "python",
   "name": "python3"
  },
  "language_info": {
   "codemirror_mode": {
    "name": "ipython",
    "version": 3
   },
   "file_extension": ".py",
   "mimetype": "text/x-python",
   "name": "python",
   "nbconvert_exporter": "python",
   "pygments_lexer": "ipython3",
   "version": "3.8.8"
  }
 },
 "nbformat": 4,
 "nbformat_minor": 5
}
