{
 "cells": [
  {
   "cell_type": "code",
   "execution_count": 7,
   "id": "a055a10b-09d3-473a-89f1-dd1775dca4bc",
   "metadata": {},
   "outputs": [
    {
     "name": "stdout",
     "output_type": "stream",
     "text": [
      "Hello World\n",
      "100\n",
      "3.14\n",
      "My name is Yoon Sungsu\n"
     ]
    }
   ],
   "source": [
    "\"\"\"\n",
    "print() function\n",
    "\n",
    "\"\"\"\n",
    "print(\"Hello World\")\n",
    "print(100)\n",
    "pi = 3.14\n",
    "print(pi)\n",
    "\n",
    "intro=\"My name is\"\n",
    "name=\" Yoon Sungsu\"\n",
    "\n",
    "print(intro+name)"
   ]
  },
  {
   "cell_type": "code",
   "execution_count": 8,
   "id": "5f798fc1-bd73-4778-aed7-1a861d954f08",
   "metadata": {},
   "outputs": [],
   "source": [
    "\"\"\"\n",
    "Variables\n",
    "\"\"\"\n",
    "\n",
    "user_name=\"Yoon Sungsu\"\n",
    "user_id=201955102\n",
    "user_email=\"tjdtn7586@hs.ac.kr\"\n",
    "is_student=True\n",
    "user_age=\"25\"\n",
    "user_country=\"Korea\"\n",
    "user_sex=\"Male\"\n",
    "\n"
   ]
  },
  {
   "cell_type": "code",
   "execution_count": 10,
   "id": "cad767fa-066d-470f-976d-64e4ce372df5",
   "metadata": {},
   "outputs": [],
   "source": [
    "\"\"\"\n",
    "Data Types: Integers\n",
    "\"\"\"\n",
    "\n",
    "chairs=8\n",
    "tables=1\n",
    "broken_chairs=0\n",
    "sofas=1\n",
    "Tv=2\n",
    "monitor=2\n",
    "cleaner=1\n"
   ]
  },
  {
   "cell_type": "code",
   "execution_count": 12,
   "id": "9eccd403-9ee7-4c46-bead-360acf109678",
   "metadata": {},
   "outputs": [],
   "source": [
    "\"\"\"\n",
    "DAta Types: REal Numbers\n",
    "\"\"\"\n",
    "\n",
    "PI=3.14\n",
    "kospi_index=3155.94\n",
    "krw_usd_exchange=1176.83\n",
    "kosdaq_index=1035.66\n",
    "nasdaq_index=15105.6\n",
    "sp500_index=4468.73"
   ]
  },
  {
   "cell_type": "code",
   "execution_count": 14,
   "id": "efb03f31-62ee-41a0-add8-e487f1e22de4",
   "metadata": {},
   "outputs": [],
   "source": [
    "\"\"\"\n",
    "Data Types:Strings\n",
    "\"\"\"\n",
    "\n",
    "favorite_motto=\"Chance favors the prepared mind.\"\n",
    "favorite_game=\"Overwatch\"\n",
    "favorite_food=\"Chicken\"\n",
    "favorite_brand=\"Samsung\""
   ]
  },
  {
   "cell_type": "code",
   "execution_count": 16,
   "id": "28c2fd8e-2643-42e0-8ee1-47fafcca1082",
   "metadata": {},
   "outputs": [
    {
     "name": "stdout",
     "output_type": "stream",
     "text": [
      "10\n"
     ]
    }
   ],
   "source": [
    "\"\"\"\n",
    "Plus-Equals Operations\n",
    "\"\"\"\n",
    "\n",
    "a=8\n",
    "a+=2 #a=a+2\n",
    "print(a)"
   ]
  },
  {
   "cell_type": "code",
   "execution_count": 17,
   "id": "f9f5472c-4e95-4834-b401-96ade22c3f8e",
   "metadata": {},
   "outputs": [
    {
     "ename": "NameError",
     "evalue": "name 'HSU' is not defined",
     "output_type": "error",
     "traceback": [
      "\u001b[1;31m---------------------------------------------------------------------------\u001b[0m",
      "\u001b[1;31mNameError\u001b[0m                                 Traceback (most recent call last)",
      "\u001b[1;32m<ipython-input-17-11ee7e9d0f28>\u001b[0m in \u001b[0;36m<module>\u001b[1;34m\u001b[0m\n\u001b[0;32m      4\u001b[0m \u001b[1;31m#Name Errors\u001b[0m\u001b[1;33m\u001b[0m\u001b[1;33m\u001b[0m\u001b[1;33m\u001b[0m\u001b[0m\n\u001b[0;32m      5\u001b[0m \u001b[1;33m\u001b[0m\u001b[0m\n\u001b[1;32m----> 6\u001b[1;33m \u001b[0mprint\u001b[0m\u001b[1;33m(\u001b[0m\u001b[0mHSU\u001b[0m\u001b[1;33m)\u001b[0m\u001b[1;33m\u001b[0m\u001b[1;33m\u001b[0m\u001b[0m\n\u001b[0m\u001b[0;32m      7\u001b[0m \u001b[0mmy_school\u001b[0m\u001b[1;33m=\u001b[0m\u001b[1;34m\"HSU\"\u001b[0m\u001b[1;33m\u001b[0m\u001b[1;33m\u001b[0m\u001b[0m\n",
      "\u001b[1;31mNameError\u001b[0m: name 'HSU' is not defined"
     ]
    }
   ],
   "source": [
    "\"\"\"\n",
    "Errors\n",
    "\"\"\"\n",
    "#Name Errors\n",
    "\n",
    "print(HSU)\n",
    "my_school=\"HSU\"\n",
    "print(HSSU)"
   ]
  },
  {
   "cell_type": "markdown",
   "id": "891de2b8-6547-4261-8211-a029db0b5b61",
   "metadata": {},
   "source": [
    "# 레벨1\n",
    "## 레벨2\n"
   ]
  },
  {
   "cell_type": "code",
   "execution_count": null,
   "id": "6a3ea0ef-5c5d-46f9-9574-0be45b961dcb",
   "metadata": {},
   "outputs": [],
   "source": []
  }
 ],
 "metadata": {
  "kernelspec": {
   "display_name": "Python 3",
   "language": "python",
   "name": "python3"
  },
  "language_info": {
   "codemirror_mode": {
    "name": "ipython",
    "version": 3
   },
   "file_extension": ".py",
   "mimetype": "text/x-python",
   "name": "python",
   "nbconvert_exporter": "python",
   "pygments_lexer": "ipython3",
   "version": "3.8.8"
  }
 },
 "nbformat": 4,
 "nbformat_minor": 5
}
