{
 "cells": [
  {
   "cell_type": "code",
   "execution_count": 2,
   "id": "0beab418-0f2e-4ab4-afed-d1ca49e3884a",
   "metadata": {},
   "outputs": [],
   "source": [
    "import pandas as pd\n",
    "import numpy as np"
   ]
  },
  {
   "cell_type": "code",
   "execution_count": 3,
   "id": "31e1f783-da1f-48c2-9a35-e7748e0c4b88",
   "metadata": {},
   "outputs": [
    {
     "data": {
      "text/plain": [
       "'1.2.4'"
      ]
     },
     "execution_count": 3,
     "metadata": {},
     "output_type": "execute_result"
    }
   ],
   "source": [
    "pd.__version__"
   ]
  },
  {
   "cell_type": "code",
   "execution_count": 8,
   "id": "f18d9d80-f618-428b-92ad-5221840954a1",
   "metadata": {},
   "outputs": [
    {
     "name": "stdout",
     "output_type": "stream",
     "text": [
      "0    0.25\n",
      "1    0.50\n",
      "2    0.75\n",
      "3    1.00\n",
      "dtype: float64\n",
      "<class 'pandas.core.series.Series'> \n",
      "\n"
     ]
    }
   ],
   "source": [
    "\"\"\"\n",
    "Pandas Object:Series\n",
    "\"\"\"\n",
    "\n",
    "ser=pd.Series([0.25,0.5,0.75,1.0])\n",
    "print(ser)\n",
    "print(type(ser),'\\n')"
   ]
  },
  {
   "cell_type": "code",
   "execution_count": 10,
   "id": "ec5b398b-7d55-47af-8603-0ceecd2825da",
   "metadata": {},
   "outputs": [
    {
     "name": "stdout",
     "output_type": "stream",
     "text": [
      "[0.25 0.5  0.75 1.  ]\n",
      "RangeIndex(start=0, stop=4, step=1)\n"
     ]
    }
   ],
   "source": [
    "arr = ser.values\n",
    "print(arr)\n",
    "\n",
    "ind=ser.index\n",
    "print(ind)"
   ]
  },
  {
   "cell_type": "code",
   "execution_count": 15,
   "id": "0c76dec3-feb4-44d6-bf20-34f415fffd94",
   "metadata": {},
   "outputs": [
    {
     "name": "stdout",
     "output_type": "stream",
     "text": [
      "a    0.25\n",
      "b    0.50\n",
      "c    0.75\n",
      "d    1.00\n",
      "dtype: float64\n",
      "Index(['a', 'b', 'c', 'd'], dtype='object')\n"
     ]
    }
   ],
   "source": [
    "ser=pd.Series([0.25,0.5,0.75,1.0],index=['a','b','c','d'])\n",
    "print(ser)\n",
    "ind=ser.index\n",
    "print(ind)"
   ]
  },
  {
   "cell_type": "code",
   "execution_count": 20,
   "id": "4f5f70c7-b728-4946-8cba-5dca6849b932",
   "metadata": {},
   "outputs": [],
   "source": [
    "\"\"\"\n",
    "Dictionary and Series\n",
    "\"\"\"\n",
    "\n",
    "dict = {'a':1, 'b' :'two', 'c':'True'}"
   ]
  },
  {
   "cell_type": "code",
   "execution_count": 22,
   "id": "7393ee31-555a-4d0d-82bc-0ae278c0e7d7",
   "metadata": {},
   "outputs": [
    {
     "name": "stdout",
     "output_type": "stream",
     "text": [
      "a       1\n",
      "b     two\n",
      "c    True\n",
      "dtype: object\n",
      "a      1\n",
      "b    two\n",
      "dtype: object\n"
     ]
    }
   ],
   "source": [
    "\"\"\"\n",
    "Create a series from a dict\n",
    "\"\"\"\n",
    "\n",
    "ser=pd.Series(dict)\n",
    "print(ser)\n",
    "\n",
    "print(ser['a':'b'])\n"
   ]
  },
  {
   "cell_type": "code",
   "execution_count": 29,
   "id": "bba0b06a-dbeb-4bfe-9726-2a54eb7b1348",
   "metadata": {},
   "outputs": [
    {
     "name": "stdout",
     "output_type": "stream",
     "text": [
      "{'Cal': 423967, 'abc': 2314214, 'Bal': 5345623}\n",
      "     dict     a_dict\n",
      "a       1        NaN\n",
      "b     two        NaN\n",
      "c    True        NaN\n",
      "Cal   NaN   423967.0\n",
      "abc   NaN  2314214.0\n",
      "Bal   NaN  5345623.0\n",
      "Index(['a', 'b', 'c', 'Cal', 'abc', 'Bal'], dtype='object')\n",
      "Index(['dict', 'a_dict'], dtype='object') \n",
      "\n",
      "a         1\n",
      "b       two\n",
      "c      True\n",
      "Cal     NaN\n",
      "abc     NaN\n",
      "Bal     NaN\n",
      "Name: dict, dtype: object\n"
     ]
    }
   ],
   "source": [
    "\"\"\"\n",
    "Pandas object:DataFrame\n",
    "\"\"\"\n",
    "\n",
    "a_dict={'Cal':423967,'abc':2314214,'Bal':5345623}\n",
    "print(a_dict)\n",
    "\n",
    "all_dict=pd.DataFrame({'dict':dict, 'a_dict':a_dict})\n",
    "print(all_dict)\n",
    "\n",
    "print(all_dict.index)\n",
    "print(all_dict.columns,'\\n')\n",
    "print(all_dict['dict'])"
   ]
  },
  {
   "cell_type": "code",
   "execution_count": 33,
   "id": "2a10b24f-cee1-4985-9d31-1732135bf975",
   "metadata": {},
   "outputs": [
    {
     "name": "stdout",
     "output_type": "stream",
     "text": [
      "[[0.24110509 0.68705232]\n",
      " [0.53543654 0.57107014]\n",
      " [0.59640914 0.73127565]] \n",
      "\n"
     ]
    },
    {
     "data": {
      "text/html": [
       "<div>\n",
       "<style scoped>\n",
       "    .dataframe tbody tr th:only-of-type {\n",
       "        vertical-align: middle;\n",
       "    }\n",
       "\n",
       "    .dataframe tbody tr th {\n",
       "        vertical-align: top;\n",
       "    }\n",
       "\n",
       "    .dataframe thead th {\n",
       "        text-align: right;\n",
       "    }\n",
       "</style>\n",
       "<table border=\"1\" class=\"dataframe\">\n",
       "  <thead>\n",
       "    <tr style=\"text-align: right;\">\n",
       "      <th></th>\n",
       "      <th>foo</th>\n",
       "      <th>bar</th>\n",
       "    </tr>\n",
       "  </thead>\n",
       "  <tbody>\n",
       "    <tr>\n",
       "      <th>a</th>\n",
       "      <td>0.241105</td>\n",
       "      <td>0.687052</td>\n",
       "    </tr>\n",
       "    <tr>\n",
       "      <th>b</th>\n",
       "      <td>0.535437</td>\n",
       "      <td>0.571070</td>\n",
       "    </tr>\n",
       "    <tr>\n",
       "      <th>c</th>\n",
       "      <td>0.596409</td>\n",
       "      <td>0.731276</td>\n",
       "    </tr>\n",
       "  </tbody>\n",
       "</table>\n",
       "</div>"
      ],
      "text/plain": [
       "        foo       bar\n",
       "a  0.241105  0.687052\n",
       "b  0.535437  0.571070\n",
       "c  0.596409  0.731276"
      ]
     },
     "execution_count": 33,
     "metadata": {},
     "output_type": "execute_result"
    }
   ],
   "source": [
    "arr=np.random.rand(3,2)\n",
    "print(arr,'\\n')\n",
    "\n",
    "pd.DataFrame(arr, columns=['foo','bar'],index=['a','b','c'])"
   ]
  },
  {
   "cell_type": "code",
   "execution_count": 40,
   "id": "ebb0bc59-a184-4117-a801-0449b48f1e09",
   "metadata": {},
   "outputs": [
    {
     "name": "stdout",
     "output_type": "stream",
     "text": [
      "True\n",
      "False\n",
      "Index(['a', 'b', 'c', 'd'], dtype='object')\n",
      "Index(['a', 'b', 'c', 'd'], dtype='object')\n"
     ]
    }
   ],
   "source": [
    "\"\"\"\n",
    "Series object manipulation:dictionary-style\n",
    "\"\"\"\n",
    "\n",
    "ser=pd.Series([0.25,0.5,0.75,1.0],index=['a','b','c','d'])\n",
    "\n",
    "print('a' in ser)\n",
    "print(0.25 in ser) #키값만 확인가능\n",
    "\n",
    "print(ser.keys())\n",
    "print(ser.index)\n",
    "\n"
   ]
  },
  {
   "cell_type": "code",
   "execution_count": 48,
   "id": "24bde169-1f18-4c6f-a00b-c53d35ad4d3b",
   "metadata": {},
   "outputs": [
    {
     "name": "stdout",
     "output_type": "stream",
     "text": [
      "a    0.125\n",
      "b    0.500\n",
      "c    0.750\n",
      "d    1.000\n",
      "e    1.250\n",
      "dtype: float64 \n",
      "\n",
      "a    0.125\n",
      "b    0.500\n",
      "c    0.750\n",
      "dtype: float64 \n",
      "\n",
      "a    0.125\n",
      "b    0.500\n",
      "dtype: float64\n"
     ]
    }
   ],
   "source": [
    "\"\"\"\n",
    "Series object manipulation: array-style\n",
    "\"\"\"\n",
    "\n",
    "ser['e']=1.25\n",
    "ser['a']=0.125\n",
    "print(ser,'\\n')\n",
    "\n",
    "print(ser['a':'c'],'\\n')\n",
    "print(ser[0:2])"
   ]
  },
  {
   "cell_type": "code",
   "execution_count": 60,
   "id": "8b4e34c7-e166-4ecc-89e5-7f50e0f77ed7",
   "metadata": {},
   "outputs": [
    {
     "name": "stdout",
     "output_type": "stream",
     "text": [
      "            population    area\n",
      "California    38332521  423967\n",
      "Texas         26448193  695662\n",
      "New York      19651127  141297\n",
      "Florida       19552860  170312\n",
      "Illinois      12882135  149995\n"
     ]
    }
   ],
   "source": [
    "\"\"\"\n",
    "Caution:Slicing Series object using explicit/implicit indexing\n",
    "\"\"\"\n",
    "population_dict = {'California': 38332521,\n",
    "'Texas': 26448193,\n",
    "\"New York\": 19651127,\n",
    "'Florida': 19552860,\n",
    "'Illinois': 12882135}\n",
    "population = pd.Series(population_dict)\n",
    "\n",
    "\n",
    "area_dict = {'California': 423967,'Texas': 695662, 'New York': 141297,\n",
    "'Florida': 170312, 'Illinois': 149995}\n",
    "area = pd.Series(area_dict)\n",
    "\n",
    "states = pd.DataFrame({'population': population, 'area': area})\n",
    "\n",
    "print(states)\n",
    "states['density'] = states['population'] / states['area']\n"
   ]
  },
  {
   "cell_type": "code",
   "execution_count": 63,
   "id": "a0921ebc-ed53-4687-91b8-11bd1ddae1ef",
   "metadata": {},
   "outputs": [
    {
     "data": {
      "text/html": [
       "<div>\n",
       "<style scoped>\n",
       "    .dataframe tbody tr th:only-of-type {\n",
       "        vertical-align: middle;\n",
       "    }\n",
       "\n",
       "    .dataframe tbody tr th {\n",
       "        vertical-align: top;\n",
       "    }\n",
       "\n",
       "    .dataframe thead th {\n",
       "        text-align: right;\n",
       "    }\n",
       "</style>\n",
       "<table border=\"1\" class=\"dataframe\">\n",
       "  <thead>\n",
       "    <tr style=\"text-align: right;\">\n",
       "      <th></th>\n",
       "      <th>population</th>\n",
       "      <th>density</th>\n",
       "    </tr>\n",
       "  </thead>\n",
       "  <tbody>\n",
       "    <tr>\n",
       "      <th>New York</th>\n",
       "      <td>19651127</td>\n",
       "      <td>139.076746</td>\n",
       "    </tr>\n",
       "    <tr>\n",
       "      <th>Florida</th>\n",
       "      <td>19552860</td>\n",
       "      <td>114.806121</td>\n",
       "    </tr>\n",
       "  </tbody>\n",
       "</table>\n",
       "</div>"
      ],
      "text/plain": [
       "          population     density\n",
       "New York    19651127  139.076746\n",
       "Florida     19552860  114.806121"
      ]
     },
     "execution_count": 63,
     "metadata": {},
     "output_type": "execute_result"
    }
   ],
   "source": [
    "states.loc[states.density > 100, ['population', 'density']]"
   ]
  },
  {
   "cell_type": "code",
   "execution_count": null,
   "id": "36c38171-fc3d-470f-bf1c-87981a71a111",
   "metadata": {},
   "outputs": [],
   "source": []
  }
 ],
 "metadata": {
  "kernelspec": {
   "display_name": "Python 3",
   "language": "python",
   "name": "python3"
  },
  "language_info": {
   "codemirror_mode": {
    "name": "ipython",
    "version": 3
   },
   "file_extension": ".py",
   "mimetype": "text/x-python",
   "name": "python",
   "nbconvert_exporter": "python",
   "pygments_lexer": "ipython3",
   "version": "3.8.8"
  }
 },
 "nbformat": 4,
 "nbformat_minor": 5
}
