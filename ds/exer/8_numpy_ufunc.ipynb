{
 "cells": [
  {
   "cell_type": "code",
   "execution_count": 1,
   "id": "60fc6850-f25b-48f8-8ba9-8cab8ea8f9d5",
   "metadata": {},
   "outputs": [],
   "source": [
    "import numpy as np"
   ]
  },
  {
   "cell_type": "code",
   "execution_count": 4,
   "id": "498f06ca-98ae-4936-b66a-c6f501878dea",
   "metadata": {},
   "outputs": [
    {
     "name": "stdout",
     "output_type": "stream",
     "text": [
      "21.3 ns ± 0.146 ns per loop (mean ± std. dev. of 7 runs, 10000000 loops each)\n"
     ]
    }
   ],
   "source": [
    "\"\"\"\n",
    "Comparison:Loop vs ufuncs\n",
    "\"\"\"\n",
    "\n",
    "big_array=np.random.randint(1,100,size=1000000)\n",
    "\n",
    "%timeit big_array\n",
    "\n"
   ]
  },
  {
   "cell_type": "code",
   "execution_count": 5,
   "id": "b0338e20-012b-482e-95d9-c68912fcaf27",
   "metadata": {},
   "outputs": [
    {
     "name": "stdout",
     "output_type": "stream",
     "text": [
      "2.44 ms ± 41.4 µs per loop (mean ± std. dev. of 7 runs, 100 loops each)\n"
     ]
    }
   ],
   "source": [
    "\n",
    "%timeit 1 / big_array"
   ]
  },
  {
   "cell_type": "code",
   "execution_count": 11,
   "id": "8f9b8d8a-6eaf-401f-acc1-89031951b6b5",
   "metadata": {},
   "outputs": [
    {
     "name": "stdout",
     "output_type": "stream",
     "text": [
      "[5 8 9 5 0] [0 1 7 6 9]\n",
      "[-2 -1  5  4  7]\n",
      "[-2  0 12 10 16]\n",
      "[[2 4 5 2 4]\n",
      " [2 4 7 7 9]\n",
      " [1 7 0 6 9]]\n",
      "[[ 4 16 25  4 16]\n",
      " [ 4 16 49 49 81]\n",
      " [ 1 49  0 36 81]]\n"
     ]
    }
   ],
   "source": [
    "\"\"\"\n",
    "numpy.ufunc\n",
    "\"\"\"\n",
    "\n",
    "np.random.seed(1)\n",
    "arr1=np.random.randint(10,size=(5))\n",
    "arr2=np.random.randint(10,size=(5))\n",
    "print(arr1,arr2)\n",
    "\n",
    "arr1=arr2-2\n",
    "print(arr1)\n",
    "\n",
    "arr3=arr1+arr2\n",
    "print(arr3)\n",
    "\n",
    "arr4=np.random.randint(10,size=(3,5))\n",
    "print(arr4)\n",
    "\n",
    "arr5=arr4**2\n",
    "print(arr5)"
   ]
  },
  {
   "cell_type": "code",
   "execution_count": 14,
   "id": "b5035af4-aaee-41a3-98e7-a407192754c0",
   "metadata": {},
   "outputs": [
    {
     "name": "stdout",
     "output_type": "stream",
     "text": [
      "[5 6 7 8]\n"
     ]
    },
    {
     "data": {
      "text/plain": [
       "array([5, 6, 7, 8])"
      ]
     },
     "execution_count": 14,
     "metadata": {},
     "output_type": "execute_result"
    }
   ],
   "source": [
    "x=np.arange(4)\n",
    "print(x+5)\n",
    "np.add(x,5)"
   ]
  },
  {
   "cell_type": "code",
   "execution_count": 17,
   "id": "2b6f0253-6a79-49b8-b6cf-482ec97e8f37",
   "metadata": {},
   "outputs": [
    {
     "name": "stdout",
     "output_type": "stream",
     "text": [
      "[2 1 0 1 2]\n",
      "[5.         5.65685425 2.         1.        ]\n"
     ]
    }
   ],
   "source": [
    "\"\"\"\n",
    "UFuncs:Absolute Value\n",
    "\"\"\"\n",
    "\n",
    "x=np.array([-2,-1,0,1,2])\n",
    "print(np.abs(x))\n",
    "\n",
    "x=np.array([3-4j,4-4j,2+0j,0+1j])\n",
    "print(np.abs(x))"
   ]
  },
  {
   "cell_type": "code",
   "execution_count": 20,
   "id": "d90b5424-3617-41b6-864c-f4272b3998b0",
   "metadata": {},
   "outputs": [
    {
     "name": "stdout",
     "output_type": "stream",
     "text": [
      "[0.         1.57079633 3.14159265]\n",
      "[0.0000000e+00 1.0000000e+00 1.2246468e-16]\n",
      "[ 1.000000e+00  6.123234e-17 -1.000000e+00]\n",
      "[ 0.00000000e+00  1.63312394e+16 -1.22464680e-16]\n"
     ]
    }
   ],
   "source": [
    "\"\"\"\n",
    "UFuncs:Trigonometric Functions\n",
    "\"\"\"\n",
    "\n",
    "theta=np.linspace(0,np.pi,3)\n",
    "print(theta)\n",
    "\n",
    "print(np.sin(theta))\n",
    "print(np.cos(theta))\n",
    "print(np.tan(theta))"
   ]
  },
  {
   "cell_type": "code",
   "execution_count": 23,
   "id": "7b92dad4-2f65-4524-bf2b-02b0e1f78916",
   "metadata": {},
   "outputs": [
    {
     "name": "stdout",
     "output_type": "stream",
     "text": [
      "[1 2 3 4]\n",
      "10\n",
      "24\n"
     ]
    }
   ],
   "source": [
    "\"\"\"\n",
    "UFuncs:Aggregation\n",
    "\"\"\"\n",
    "\n",
    "x=np.arange(1,5)\n",
    "print(x)\n",
    "\n",
    "aggr=np.add.reduce(x)\n",
    "print(aggr)\n",
    "\n",
    "aggr=np.multiply.reduce(x)\n",
    "print(aggr)"
   ]
  },
  {
   "cell_type": "code",
   "execution_count": 26,
   "id": "f41c2704-68ee-4844-aed5-48456834179b",
   "metadata": {},
   "outputs": [
    {
     "name": "stdout",
     "output_type": "stream",
     "text": [
      "[ 1  2  3  4  5  6  7  8  9 10 11 12 13 14]\n",
      "[  1   3   6  10  15  21  28  36  45  55  66  78  91 105]\n",
      "[         1          2          6         24        120        720\n",
      "       5040      40320     362880    3628800   39916800  479001600\n",
      " 1932053504 1278945280]\n"
     ]
    }
   ],
   "source": [
    "#accumulate()\n",
    "\n",
    "x=np.arange(1,15)\n",
    "print(x)\n",
    "\n",
    "accum=np.add.accumulate(x)\n",
    "print(accum)\n",
    "\n",
    "accum=np.multiply.accumulate(x)\n",
    "print(accum)"
   ]
  },
  {
   "cell_type": "code",
   "execution_count": 29,
   "id": "04159da6-d5f3-49ad-b0f6-0375e7009ec8",
   "metadata": {},
   "outputs": [
    {
     "name": "stdout",
     "output_type": "stream",
     "text": [
      "[0.4359949  0.02592623 0.54966248 ... 0.78483191 0.00778062 0.42442656]\n",
      "sum= 499468.5166853333\n",
      "79.7 ms ± 685 µs per loop (mean ± std. dev. of 7 runs, 10 loops each)\n"
     ]
    }
   ],
   "source": [
    "np.random.seed(2)\n",
    "arr=np.random.rand(1000000)\n",
    "print(arr)\n",
    "\n",
    "print('sum=', np.sum(arr))\n",
    "\n",
    "%timeit sum(arr)"
   ]
  },
  {
   "cell_type": "code",
   "execution_count": 31,
   "id": "26b46336-817d-4d6a-8c0d-1ef5eec306bf",
   "metadata": {},
   "outputs": [
    {
     "name": "stdout",
     "output_type": "stream",
     "text": [
      "288 µs ± 1.12 µs per loop (mean ± std. dev. of 7 runs, 1000 loops each)\n"
     ]
    }
   ],
   "source": [
    "%timeit np.sum(arr)"
   ]
  },
  {
   "cell_type": "code",
   "execution_count": 36,
   "id": "6672f75d-a032-4854-a1ce-74af5d2d5b41",
   "metadata": {},
   "outputs": [
    {
     "name": "stdout",
     "output_type": "stream",
     "text": [
      "[[3 6 6 0]\n",
      " [9 8 4 7]\n",
      " [0 0 7 1]]\n",
      "[12 14 17  8]\n",
      "[15 28  8]\n"
     ]
    }
   ],
   "source": [
    "\n",
    "np.random.seed(5)\n",
    "\n",
    "arr=np.random.randint(10,size=(3,4))\n",
    "print(arr)\n",
    "\n",
    "print(np.sum(arr,axis=0))\n",
    "print(np.sum(arr,axis=1))"
   ]
  },
  {
   "cell_type": "code",
   "execution_count": null,
   "id": "cf4dfabd-591a-4f9d-b812-a8d69e4122f1",
   "metadata": {},
   "outputs": [],
   "source": []
  }
 ],
 "metadata": {
  "kernelspec": {
   "display_name": "Python 3",
   "language": "python",
   "name": "python3"
  },
  "language_info": {
   "codemirror_mode": {
    "name": "ipython",
    "version": 3
   },
   "file_extension": ".py",
   "mimetype": "text/x-python",
   "name": "python",
   "nbconvert_exporter": "python",
   "pygments_lexer": "ipython3",
   "version": "3.8.8"
  }
 },
 "nbformat": 4,
 "nbformat_minor": 5
}
