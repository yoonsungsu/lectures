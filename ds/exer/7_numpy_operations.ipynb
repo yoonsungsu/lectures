{
 "cells": [
  {
   "cell_type": "code",
   "execution_count": 2,
   "id": "ed8a24e0-6f4e-4a48-9228-7a77f228de00",
   "metadata": {},
   "outputs": [],
   "source": [
    "import numpy as np"
   ]
  },
  {
   "cell_type": "code",
   "execution_count": 3,
   "id": "f59a212f-0f78-4139-acae-ee4576eae632",
   "metadata": {},
   "outputs": [
    {
     "name": "stdout",
     "output_type": "stream",
     "text": [
      "[0 1 2]\n",
      "[3 4 5 6 7 8]\n",
      "[3 5 7]\n"
     ]
    }
   ],
   "source": [
    "\"\"\"\n",
    "Numpy Array Attributes\n",
    "\"\"\"\n",
    "\n",
    "print(np.arange(3))\n",
    "print(np.arange(3,9))\n",
    "print(np.arange(3,9,2))"
   ]
  },
  {
   "cell_type": "code",
   "execution_count": 30,
   "id": "b043e733-8104-452c-9792-f27a40cabb99",
   "metadata": {},
   "outputs": [
    {
     "name": "stdout",
     "output_type": "stream",
     "text": [
      "[[[5 0 3 3 7]\n",
      "  [9 3 5 2 4]\n",
      "  [7 6 8 8 1]\n",
      "  [6 7 7 8 1]]\n",
      "\n",
      " [[5 9 8 9 4]\n",
      "  [3 0 3 5 0]\n",
      "  [2 3 8 1 3]\n",
      "  [3 3 7 0 1]]\n",
      "\n",
      " [[9 9 0 4 7]\n",
      "  [3 2 7 2 0]\n",
      "  [0 4 5 5 6]\n",
      "  [8 4 1 4 9]]]\n"
     ]
    }
   ],
   "source": [
    "np.random.seed(0)\n",
    "arr1=np.random.randint(10,size=(3,4,5))\n",
    "print(arr1)\n"
   ]
  },
  {
   "cell_type": "code",
   "execution_count": 38,
   "id": "5f61b401-50bf-43e3-b48f-a8d7e893918e",
   "metadata": {},
   "outputs": [
    {
     "name": "stdout",
     "output_type": "stream",
     "text": [
      "[[5 8 9 5]\n",
      " [0 0 1 7]\n",
      " [6 9 2 4]]\n",
      "arr.ndim= 2\n",
      "arr.shape= (3, 4)\n",
      "arr.size= 12\n",
      "arr.dtype= int32\n",
      "arr.itemsize= 4\n",
      "arr.nbytes= 48\n"
     ]
    }
   ],
   "source": [
    "np.random.seed(1)\n",
    "arr = np.random.randint(10,size=(3,4))\n",
    "print(arr)\n",
    "\n",
    "print(\"arr.ndim=\", arr.ndim)\n",
    "print(\"arr.shape=\", arr.shape)\n",
    "print(\"arr.size=\", arr.size)\n",
    "print(\"arr.dtype=\", arr.dtype)\n",
    "print(\"arr.itemsize=\", arr.itemsize)\n",
    "print(\"arr.nbytes=\", arr.nbytes)"
   ]
  },
  {
   "cell_type": "code",
   "execution_count": 42,
   "id": "b31ac363-6ff5-4c77-8bce-33d580af458f",
   "metadata": {},
   "outputs": [
    {
     "name": "stdout",
     "output_type": "stream",
     "text": [
      "[0 1 2 3 4 5 6 7 8 9]\n",
      "[3 4 5 6]\n",
      "[0 1 2 3 4 5 6]\n",
      "[3 4 5 6 7 8 9]\n",
      "[3 5]\n"
     ]
    }
   ],
   "source": [
    "\"\"\"\n",
    "slicing\n",
    "\"\"\"\n",
    "\n",
    "arr=np.arange(10)\n",
    "print(arr)\n",
    "\n",
    "print(arr[3:7])\n",
    "print(arr[:7])\n",
    "print(arr[3:])\n",
    "print(arr[3:7:2])"
   ]
  },
  {
   "cell_type": "code",
   "execution_count": 45,
   "id": "a945a713-cc1c-4ba4-8b95-088d7db86d40",
   "metadata": {},
   "outputs": [
    {
     "name": "stdout",
     "output_type": "stream",
     "text": [
      "[[8 8 6 2 8 7 2 1]\n",
      " [5 4 4 5 7 3 6 4]\n",
      " [3 7 6 1 3 5 8 4]\n",
      " [6 3 9 2 0 4 2 4]\n",
      " [1 7 8 2 9 8 7 1]\n",
      " [6 8 5 9 9 9 3 0]]\n",
      "[[8 8]\n",
      " [5 4]]\n",
      "[[99  8  6  2  8  7  2  1]\n",
      " [ 5  4  4  5  7  3  6  4]\n",
      " [ 3  7  6  1  3  5  8  4]\n",
      " [ 6  3  9  2  0  4  2  4]\n",
      " [ 1  7  8  2  9  8  7  1]\n",
      " [ 6  8  5  9  9  9  3  0]]\n"
     ]
    }
   ],
   "source": [
    "np.random.seed(2)\n",
    "arr = np.random.randint(10,size=(6,8))\n",
    "print(arr)\n",
    "\n",
    "arr_sub=arr[:2,:2]\n",
    "print(arr_sub)\n",
    "\n",
    "arr_sub[0,0]=99\n",
    "print(arr)"
   ]
  },
  {
   "cell_type": "code",
   "execution_count": 50,
   "id": "17a965f3-7f3b-4466-8eba-da5ba024f898",
   "metadata": {},
   "outputs": [
    {
     "name": "stdout",
     "output_type": "stream",
     "text": [
      "[[8 8 6 2 8 7 2 1]\n",
      " [5 4 4 5 7 3 6 4]\n",
      " [3 7 6 1 3 5 8 4]\n",
      " [6 3 9 2 0 4 2 4]\n",
      " [1 7 8 2 9 8 7 1]\n",
      " [6 8 5 9 9 9 3 0]]\n",
      "[[8 8]\n",
      " [5 4]]\n",
      "[[99  8]\n",
      " [ 5  4]]\n",
      "[[8 8 6 2 8 7 2 1]\n",
      " [5 4 4 5 7 3 6 4]\n",
      " [3 7 6 1 3 5 8 4]\n",
      " [6 3 9 2 0 4 2 4]\n",
      " [1 7 8 2 9 8 7 1]\n",
      " [6 8 5 9 9 9 3 0]]\n"
     ]
    }
   ],
   "source": [
    "\"\"\"\n",
    "Subarrays as no-copy views\n",
    "\"\"\"\n",
    "\n",
    "np.random.seed(2)\n",
    "arr = np.random.randint(10,size=(6,8))\n",
    "print(arr)\n",
    "\n",
    "arr_sub=arr[:2,:2].copy()\n",
    "print(arr_sub)\n",
    "\n",
    "arr_sub[0,0]=99\n",
    "print(arr_sub)\n",
    "\n",
    "print(arr)"
   ]
  },
  {
   "cell_type": "code",
   "execution_count": 54,
   "id": "0df0a485-68bf-4d2d-914a-6d174382b53c",
   "metadata": {},
   "outputs": [
    {
     "name": "stdout",
     "output_type": "stream",
     "text": [
      "[1 2 3 4 5 6 7 8 9] \n",
      "\n",
      "[[1 2 3]\n",
      " [4 5 6]\n",
      " [7 8 9]] \n",
      "\n"
     ]
    }
   ],
   "source": [
    "\"\"\"\n",
    "Reshaping of Arrays\n",
    "\"\"\"\n",
    "\n",
    "arr=np.arange(1,10)\n",
    "print(arr,'\\n')\n",
    "\n",
    "grid=arr.reshape(3,3)\n",
    "print(grid,'\\n')"
   ]
  },
  {
   "cell_type": "code",
   "execution_count": 58,
   "id": "03312c0f-1e35-4668-8e4c-11f1f79571a6",
   "metadata": {},
   "outputs": [
    {
     "name": "stdout",
     "output_type": "stream",
     "text": [
      "[1 2 3 4 5 6 7 8 9]\n",
      "[[1 2 3]\n",
      " [4 5 6]\n",
      " [7 8 9]]\n",
      "[1 2 3 4 5 6 7 8 9]\n"
     ]
    }
   ],
   "source": [
    "\"\"\"\n",
    "Array Concatenation\n",
    "\"\"\"\n",
    "arr_1=np.array([1,2,3])\n",
    "arr_2=np.array([4,5,6])\n",
    "arr_3=np.array([7,8,9])\n",
    "\n",
    "arr_sum=np.concatenate([arr_1,arr_2,arr_3])\n",
    "print(arr_sum)\n",
    "\n",
    "arr_total=np.vstack([arr_1,arr_2,arr_3])\n",
    "print(arr_total)\n",
    "\n",
    "arr_total=np.hstack([arr_1,arr_2,arr_3])\n",
    "print(arr_total)"
   ]
  },
  {
   "cell_type": "code",
   "execution_count": 65,
   "id": "dc10fbb2-90b9-4b5d-9ab7-8a6f46d07006",
   "metadata": {},
   "outputs": [
    {
     "name": "stdout",
     "output_type": "stream",
     "text": [
      "[1, 2, 3, 99, 99, 3, 2, 1] \n",
      "\n",
      "[1 2 3] [99 99] [3 2 1]\n"
     ]
    }
   ],
   "source": [
    "\"\"\"\n",
    "Array Splitting\n",
    "\"\"\"\n",
    "\n",
    "arr=[1,2,3,99,99,3,2,1]\n",
    "print(arr,'\\n')\n",
    "\n",
    "arr_1, arr_2,arr_3=np.split(arr, [3,5])\n",
    "print(arr_1,arr_2,arr_3)"
   ]
  },
  {
   "cell_type": "code",
   "execution_count": null,
   "id": "fba28276-36c9-473b-b697-ecfe345835b3",
   "metadata": {},
   "outputs": [],
   "source": []
  }
 ],
 "metadata": {
  "kernelspec": {
   "display_name": "Python 3",
   "language": "python",
   "name": "python3"
  },
  "language_info": {
   "codemirror_mode": {
    "name": "ipython",
    "version": 3
   },
   "file_extension": ".py",
   "mimetype": "text/x-python",
   "name": "python",
   "nbconvert_exporter": "python",
   "pygments_lexer": "ipython3",
   "version": "3.8.8"
  }
 },
 "nbformat": 4,
 "nbformat_minor": 5
}
