{
 "cells": [
  {
   "cell_type": "code",
   "execution_count": 28,
   "id": "825d70d9-298e-40cc-8a56-f2077b4a2f64",
   "metadata": {},
   "outputs": [
    {
     "name": "stdout",
     "output_type": "stream",
     "text": [
      "Average price is 31.875\n",
      "[25, 20, 35, 15, 15, 30, 45, 30]\n",
      "Average daily revenue is 155.0\n",
      "['bouffant', 'pixie', 'crew', 'bowl']\n"
     ]
    }
   ],
   "source": [
    "hairstyles=[\"bouffant\",\"pixie\",\"dreadlocks\",\"crew\",\"bowl\",\"bob\",\"mohawk\",\"flattop\"]\n",
    "prices=[30,25,40,20,20,35,50,35]\n",
    "last_week=[2,3,5,8,4,4,6,2]\n",
    "\n",
    "total_price=0\n",
    "for sum in prices :\n",
    "    total_price+=sum\n",
    "\n",
    "average_price=total_price/len(prices)\n",
    "print(f\"Average price is {average_price}\")\n",
    "\n",
    "new_prices=[i-5 for i in prices]\n",
    "print(new_prices)\n",
    "\n",
    "total_revenue=0\n",
    "for i in range(len(hairstyles)) :\n",
    "    total_revenue+=prices[i]*last_week[i]\n",
    "print(f\"Average daily revenue is {total_revenue/7}\")\n",
    "\n",
    "cuts_under_30=[hairstyles[i] for i in range(len(new_prices)-1) if new_prices[i]<30 ]\n",
    "print(cuts_under_30)"
   ]
  },
  {
   "cell_type": "code",
   "execution_count": null,
   "id": "b7e0ae7f-d4e3-4c0d-82dc-e69cfc883360",
   "metadata": {},
   "outputs": [],
   "source": []
  }
 ],
 "metadata": {
  "kernelspec": {
   "display_name": "Python 3",
   "language": "python",
   "name": "python3"
  },
  "language_info": {
   "codemirror_mode": {
    "name": "ipython",
    "version": 3
   },
   "file_extension": ".py",
   "mimetype": "text/x-python",
   "name": "python",
   "nbconvert_exporter": "python",
   "pygments_lexer": "ipython3",
   "version": "3.8.8"
  }
 },
 "nbformat": 4,
 "nbformat_minor": 5
}
